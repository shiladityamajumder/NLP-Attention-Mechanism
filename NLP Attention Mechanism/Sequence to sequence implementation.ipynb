{
 "cells": [
  {
   "cell_type": "markdown",
   "metadata": {
    "id": "_q0db0aWFvsX"
   },
   "source": [
    "# <font color='red'>**Sequence to sequence implementation**</font>"
   ]
  },
  {
   "cell_type": "code",
   "execution_count": 2,
   "metadata": {
    "colab": {
     "base_uri": "https://localhost:8080/"
    },
    "id": "E9wpSlX2Fvsc",
    "outputId": "9cca7c9d-040d-4c54-cbe0-8c61a1c4b0b5"
   },
   "outputs": [
    {
     "name": "stdout",
     "output_type": "stream",
     "text": [
      "Collecting contractions\n",
      "  Downloading https://files.pythonhosted.org/packages/0a/04/d5e0bb9f2cef5d15616ebf68087a725c5dbdd71bd422bcfb35d709f98ce7/contractions-0.0.48-py2.py3-none-any.whl\n",
      "Collecting textsearch>=0.0.21\n",
      "  Downloading https://files.pythonhosted.org/packages/d3/fe/021d7d76961b5ceb9f8d022c4138461d83beff36c3938dc424586085e559/textsearch-0.0.21-py2.py3-none-any.whl\n",
      "Collecting anyascii\n",
      "\u001b[?25l  Downloading https://files.pythonhosted.org/packages/09/c7/61370d9e3c349478e89a5554c1e5d9658e1e3116cc4f2528f568909ebdf1/anyascii-0.1.7-py3-none-any.whl (260kB)\n",
      "\u001b[K     |████████████████████████████████| 266kB 4.3MB/s \n",
      "\u001b[?25hCollecting pyahocorasick\n",
      "\u001b[?25l  Downloading https://files.pythonhosted.org/packages/4a/92/b3c70b8cf2b76f7e3e8b7243d6f06f7cb3bab6ada237b1bce57604c5c519/pyahocorasick-1.4.1.tar.gz (321kB)\n",
      "\u001b[K     |████████████████████████████████| 327kB 6.1MB/s \n",
      "\u001b[?25hBuilding wheels for collected packages: pyahocorasick\n",
      "  Building wheel for pyahocorasick (setup.py) ... \u001b[?25l\u001b[?25hdone\n",
      "  Created wheel for pyahocorasick: filename=pyahocorasick-1.4.1-cp36-cp36m-linux_x86_64.whl size=84341 sha256=451388d2cc4a028631e4bea9d2a3b86a8dc4ccc2737c3080cf0ae11bc93eb054\n",
      "  Stored in directory: /root/.cache/pip/wheels/e4/ab/f7/cb39270df8f6126f3dd4c33d302357167086db460968cfc80c\n",
      "Successfully built pyahocorasick\n",
      "Installing collected packages: anyascii, pyahocorasick, textsearch, contractions\n",
      "Successfully installed anyascii-0.1.7 contractions-0.0.48 pyahocorasick-1.4.1 textsearch-0.0.21\n"
     ]
    }
   ],
   "source": [
    "!pip install contractions"
   ]
  },
  {
   "cell_type": "markdown",
   "metadata": {
    "id": "jFqotKWAFvsc"
   },
   "source": [
    "**There will be some functions that start with the word \"grader\" ex: grader_check_encoder(), grader_check_attention(), grader_onestepdecoder() etc, you should not change those function definition.<br><br>Every Grader function has to return True.**\n",
    "\n",
    "**Note 1:**  There are many blogs on the attention mechanisum which might be misleading you,\n",
    " so do read the references completly and after that only please check the internet.\n",
    " The best things is to read the research papers and try to implement it on your own. \n",
    "\n",
    "**Note 2:** To complete this assignment, the reference that are mentioned will be enough.\n",
    "\n",
    "**Note 3:** If you are starting this assignment, you might have completed minimum of 20 assignment.\n",
    " If  you are still not able to implement this algorithm you might have rushed in the previous assignments \n",
    "with out learning much and didn't spend your time productively."
   ]
  },
  {
   "cell_type": "markdown",
   "metadata": {
    "id": "tdqmWIN9Fvsd"
   },
   "source": [
    "## Task -1: Simple Encoder and Decoder\n",
    "Implement simple Encoder-Decoder model"
   ]
  },
  {
   "cell_type": "markdown",
   "metadata": {
    "id": "Z1IGsxW4Fvsd"
   },
   "source": [
    "1. Download the **Italian** to **English** translation dataset from <a href=\"http://www.manythings.org/anki/ita-eng.zip\">here</a>\n",
    "\n",
    "2. You will find **ita.txt** file in that ZIP, \n",
    "you can read that data using python and preprocess that data this way only: \n",
    "<img src='https://i.imgur.com/z0j79Jf.png'>    \n",
    "    \n",
    "3. You have to implement a simple Encoder and Decoder architecture  \n",
    "\n",
    "4. Use BLEU score as metric to evaluate your model. You can use any loss function you need.\n",
    "\n",
    "5. You have to use Tensorboard to plot the Graph, Scores and histograms of gradients. \n",
    "\n",
    "6.  a. Check the reference notebook <br>\n",
    "    b. <a href=\"https://medium.com/analytics-vidhya/understand-sequence-to-sequence-models-in-a-more-intuitive-way-1d517d8795bb\">Resource 2</a>"
   ]
  },
  {
   "cell_type": "markdown",
   "metadata": {
    "id": "SB__bAVRFvsd"
   },
   "source": [
    "<font color='red'>**Load the data**</font>"
   ]
  },
  {
   "cell_type": "code",
   "execution_count": 3,
   "metadata": {
    "id": "hRL_JXu9Fvsd"
   },
   "outputs": [],
   "source": [
    "import tensorflow as tf\n",
    "import warnings\n",
    "import pandas as pd\n",
    "from tqdm import tqdm\n",
    "import contractions\n",
    "import re\n",
    "import numpy as np"
   ]
  },
  {
   "cell_type": "code",
   "execution_count": 4,
   "metadata": {
    "colab": {
     "base_uri": "https://localhost:8080/"
    },
    "id": "iy0cHP3JFvse",
    "outputId": "f821a08c-1db7-4f65-8cb6-b64331e9f75a"
   },
   "outputs": [
    {
     "name": "stdout",
     "output_type": "stream",
     "text": [
      "343814\n"
     ]
    }
   ],
   "source": [
    "gpus = tf.config.experimental.list_physical_devices('GPU')\n",
    "tf.config.experimental.set_memory_growth(gpus[0], True)\n",
    "warnings.filterwarnings('ignore')\n",
    "data = open('ita.txt', 'r', encoding = 'utf-8').read().split('\\n')\n",
    "print(len(data))"
   ]
  },
  {
   "cell_type": "code",
   "execution_count": 5,
   "metadata": {
    "colab": {
     "base_uri": "https://localhost:8080/",
     "height": 204
    },
    "id": "Q95oey8ZFvse",
    "outputId": "656badcb-99cd-4ae7-8bd5-39c4e7c5e3c7"
   },
   "outputs": [
    {
     "data": {
      "text/html": [
       "<div>\n",
       "<style scoped>\n",
       "    .dataframe tbody tr th:only-of-type {\n",
       "        vertical-align: middle;\n",
       "    }\n",
       "\n",
       "    .dataframe tbody tr th {\n",
       "        vertical-align: top;\n",
       "    }\n",
       "\n",
       "    .dataframe thead th {\n",
       "        text-align: right;\n",
       "    }\n",
       "</style>\n",
       "<table border=\"1\" class=\"dataframe\">\n",
       "  <thead>\n",
       "    <tr style=\"text-align: right;\">\n",
       "      <th></th>\n",
       "      <th>english</th>\n",
       "      <th>italin</th>\n",
       "    </tr>\n",
       "  </thead>\n",
       "  <tbody>\n",
       "    <tr>\n",
       "      <th>0</th>\n",
       "      <td>Hi.</td>\n",
       "      <td>Ciao!</td>\n",
       "    </tr>\n",
       "    <tr>\n",
       "      <th>1</th>\n",
       "      <td>Run!</td>\n",
       "      <td>Corri!</td>\n",
       "    </tr>\n",
       "    <tr>\n",
       "      <th>2</th>\n",
       "      <td>Run!</td>\n",
       "      <td>Corra!</td>\n",
       "    </tr>\n",
       "    <tr>\n",
       "      <th>3</th>\n",
       "      <td>Run!</td>\n",
       "      <td>Correte!</td>\n",
       "    </tr>\n",
       "    <tr>\n",
       "      <th>4</th>\n",
       "      <td>Who?</td>\n",
       "      <td>Chi?</td>\n",
       "    </tr>\n",
       "  </tbody>\n",
       "</table>\n",
       "</div>"
      ],
      "text/plain": [
       "  english    italin\n",
       "0     Hi.     Ciao!\n",
       "1    Run!    Corri!\n",
       "2    Run!    Corra!\n",
       "3    Run!  Correte!\n",
       "4    Who?      Chi?"
      ]
     },
     "execution_count": 5,
     "metadata": {
      "tags": []
     },
     "output_type": "execute_result"
    }
   ],
   "source": [
    "data_f = []\n",
    "for i in range(100000):\n",
    "    try:\n",
    "        english, italin = data[i].split('\\t')[0:2]\n",
    "        data_f.append([english, italin])\n",
    "    except:\n",
    "        pass\n",
    "data_f = pd.DataFrame(data_f, columns = ['english', 'italin'])\n",
    "data_f.head()"
   ]
  },
  {
   "cell_type": "markdown",
   "metadata": {
    "id": "sgHn_Xb-Fvse"
   },
   "source": [
    "<font color='red'>**Preprocess data**</font>"
   ]
  },
  {
   "cell_type": "code",
   "execution_count": 6,
   "metadata": {
    "id": "ANcSYXgyFvse"
   },
   "outputs": [],
   "source": [
    "\"\"\"Ref: https://www.geeksforgeeks.org/nlp-expand-contractions-in-txt-processing/\"\"\"\n",
    "def preprocess(txt):\n",
    "    txt = txt.lower()\n",
    "    for a, b in enumerate(txt.split()):\n",
    "        try:\n",
    "            if len(re.findall('[^\\w\\d\\ \"]', b))> 0:\n",
    "                txt = re.sub(b, contractions.fix(b), txt)    \n",
    "            txt = re.sub('[^A-Za-z0-9èìò ]+', '', txt)\n",
    "        except:\n",
    "            return np.nan\n",
    "    return txt\n",
    "\n",
    "dat_eng = data_f.english.astype('str').apply(lambda x: preprocess(x))\n",
    "dat_ita = data_f.italin.astype('str').apply(lambda x: preprocess(x))\n",
    "data_preprocessing = pd.DataFrame(data = np.array([dat_eng, dat_ita]).T, columns = ['english', 'italin'])"
   ]
  },
  {
   "cell_type": "markdown",
   "metadata": {
    "id": "VCmcAE9OFvsf"
   },
   "source": [
    "## <font color='red'>**Implement custom encoder decoder**</font>\n",
    "<font color='red'>**Encoder**</font>"
   ]
  },
  {
   "cell_type": "code",
   "execution_count": 7,
   "metadata": {
    "id": "LeSQVcO3Fvsf"
   },
   "outputs": [],
   "source": [
    "from tensorflow.keras.layers import Embedding, LSTM, Dense\n",
    "import tensorflow as tf\n",
    "class Encoder(tf.keras.Model):\n",
    "    '''\n",
    "    Encoder model -- That takes a input sequence and returns encoder-outputs,encoder_final_state_h,encoder_final_state_c\n",
    "    '''\n",
    "    def __init__(self,inp_vocab_size,embedding_size,lstm_size,input_length):\n",
    "        super().__init__()\n",
    "        self.lstm_size = lstm_size\n",
    "        #Initialize Embedding layer\n",
    "        self.enc_embed = Embedding(input_dim = inp_vocab_size, output_dim = embedding_size, input_length= input_length)\n",
    "        #Intialize Encoder LSTM layer\n",
    "        self.enc_lstm = LSTM(lstm_size, return_sequences = True, return_state = True)\n",
    "\n",
    "    def call(self,input_sequence,states):\n",
    "        embedding = self.enc_embed(input_sequence)\n",
    "        output_state, enc_h, enc_c = self.enc_lstm(embedding, initial_state = states)\n",
    "        return output_state, enc_h, enc_c      \n",
    "\n",
    "    def initialize_states(self,batch_size):\n",
    "        return [tf.zeros((batch_size, self.lstm_size)), tf.zeros((batch_size, self.lstm_size))]"
   ]
  },
  {
   "cell_type": "markdown",
   "metadata": {},
   "source": [
    "# Ref: https://vineethaswani2.medium.com/spelling-error-correction-7154f781354c\n",
    "![](encoder.png)"
   ]
  },
  {
   "cell_type": "markdown",
   "metadata": {
    "id": "XVPptqiyFvsf"
   },
   "source": [
    "<font color='orange'>**Grader function - 1**</font>"
   ]
  },
  {
   "cell_type": "code",
   "execution_count": 8,
   "metadata": {
    "colab": {
     "base_uri": "https://localhost:8080/"
    },
    "id": "EYjNGYQFFvsf",
    "outputId": "912db65f-b854-49b8-89c0-395a599bed71"
   },
   "outputs": [
    {
     "name": "stdout",
     "output_type": "stream",
     "text": [
      "True\n"
     ]
    }
   ],
   "source": [
    "def grader_check_encoder():\n",
    "    '''\n",
    "        vocab-size: Unique words of the input language,\n",
    "        embedding_size: output embedding dimension for each word after embedding layer,\n",
    "        lstm_size: Number of lstm units,\n",
    "        input_length: Length of the input sentence,\n",
    "        batch_size\n",
    "    '''\n",
    "    vocab_size=10\n",
    "    embedding_size=20\n",
    "    lstm_size=32\n",
    "    input_length=10\n",
    "    batch_size=16\n",
    "    #Intialzing encoder \n",
    "    encoder=Encoder(vocab_size,embedding_size,lstm_size,input_length)\n",
    "    input_sequence=tf.random.uniform(shape=[batch_size,input_length],maxval=vocab_size,minval=0,dtype=tf.int32)\n",
    "    #Intializing encoder initial states\n",
    "    initial_state=encoder.initialize_states(batch_size)\n",
    "    \n",
    "    encoder_output,state_h,state_c=encoder(input_sequence,initial_state)\n",
    "    \n",
    "    assert(encoder_output.shape==(batch_size,input_length,lstm_size) and state_h.shape==(batch_size,lstm_size) and state_c.shape==(batch_size,lstm_size))\n",
    "    return True\n",
    "print(grader_check_encoder())"
   ]
  },
  {
   "cell_type": "code",
   "execution_count": 9,
   "metadata": {
    "id": "DGDXmim-Fvsg"
   },
   "outputs": [],
   "source": [
    "class Decoder(tf.keras.Model):\n",
    "    '''\n",
    "    Encoder model -- That takes a input sequence and returns output sequence\n",
    "    '''\n",
    "    def __init__(self,out_vocab_size,embedding_size,lstm_size,input_length):\n",
    "        super().__init__()\n",
    "        #Initialize Embedding layer\n",
    "        self.dec_embed = Embedding(input_dim = out_vocab_size, output_dim = embedding_size, input_length = input_length)\n",
    "        #Intialize Decoder LSTM layer\n",
    "        self.dec_lstm = LSTM(lstm_size, return_sequences = True, return_state = True)\n",
    "\n",
    "    def call(self,input_sequence,initial_states):\n",
    "        embedding = self.dec_embed(input_sequence)\n",
    "        output_state, dec_h, dec_c = self.dec_lstm(embedding, initial_state = initial_states)\n",
    "        return output_state, dec_h, dec_c     "
   ]
  },
  {
   "cell_type": "markdown",
   "metadata": {},
   "source": [
    "# Ref: https://vineethaswani2.medium.com/spelling-error-correction-7154f781354c\n",
    "![](decoder.png)"
   ]
  },
  {
   "cell_type": "markdown",
   "metadata": {
    "id": "o7vxw-nZFvsg"
   },
   "source": [
    "<font color='orange'>**Grader function - 2**</font>"
   ]
  },
  {
   "cell_type": "code",
   "execution_count": 10,
   "metadata": {
    "colab": {
     "base_uri": "https://localhost:8080/"
    },
    "id": "urcrhmF4Fvsh",
    "outputId": "6714c148-9e01-464a-e7d7-943f4b97d342"
   },
   "outputs": [
    {
     "name": "stdout",
     "output_type": "stream",
     "text": [
      "True\n"
     ]
    }
   ],
   "source": [
    "def grader_decoder():\n",
    "    '''\n",
    "        out_vocab_size: Unique words of the target language,\n",
    "        embedding_size: output embedding dimension for each word after embedding layer,\n",
    "        dec_units: Number of lstm units in decoder,\n",
    "        input_length: Length of the input sentence,\n",
    "        batch_size\n",
    "        \n",
    "    \n",
    "    '''\n",
    "    out_vocab_size=13 \n",
    "    embedding_dim=12 \n",
    "    input_length=10\n",
    "    dec_units=16 \n",
    "    batch_size=32\n",
    "    \n",
    "    target_sentences=tf.random.uniform(shape=(batch_size,input_length),maxval=10,minval=0,dtype=tf.int32)\n",
    "    encoder_output=tf.random.uniform(shape=[batch_size,input_length,dec_units])\n",
    "    state_h=tf.random.uniform(shape=[batch_size,dec_units])\n",
    "    state_c=tf.random.uniform(shape=[batch_size,dec_units])\n",
    "    states=[state_h,state_c]\n",
    "    decoder=Decoder(out_vocab_size, embedding_dim, dec_units,input_length )\n",
    "    output,_,_=decoder(target_sentences, states)\n",
    "    assert(output.shape==(batch_size,input_length,dec_units))\n",
    "    return True\n",
    "print(grader_decoder())"
   ]
  },
  {
   "cell_type": "code",
   "execution_count": 11,
   "metadata": {
    "id": "J75kdbniFvsh"
   },
   "outputs": [],
   "source": [
    "class Encoder_decoder(tf.keras.Model): \n",
    "    def __init__(self,*params):\n",
    "        super().__init__()\n",
    "        #Create encoder object\n",
    "        self.encoder = Encoder(inp_vocab_size = params[0], embedding_size = params[2], lstm_size = params[3], input_length = params[4])\n",
    "        #Create decoder object\n",
    "        self.decoder = Decoder(out_vocab_size = params[1], embedding_size = params[2], lstm_size = params[3], input_length = params[5])\n",
    "        #Intialize Dense layer(out_vocab_size) with activation='softmax'\n",
    "        self.dense = Dense(params[1], activation='softmax')\n",
    "    \n",
    "    @tf.function\n",
    "    def call(self, params, training = True):\n",
    "\n",
    "        enc_inp, dec_inp = params[0], params[1]\n",
    "        initial_state = self.encoder.initialize_states(batch_size)\n",
    "        output_state, enc_h, enc_c = self.encoder(enc_inp, initial_state)\n",
    "        output, _, _ = self.decoder(dec_inp ,[enc_h, enc_c])\n",
    "        return self.dense(output)"
   ]
  },
  {
   "cell_type": "markdown",
   "metadata": {},
   "source": [
    "# Ref: https://vineethaswani2.medium.com/spelling-error-correction-7154f781354c\n",
    "![](Encoder_decoder.png)"
   ]
  },
  {
   "cell_type": "code",
   "execution_count": 12,
   "metadata": {
    "id": "wDo5YmkKFvsh"
   },
   "outputs": [],
   "source": [
    "data_preprocessing['english_inp'] = '<sos> '+data_preprocessing['english']\n",
    "data_preprocessing['english_out'] = data_preprocessing['english'] + ' <eos>'\n",
    "data_preprocessing['italin'] = data_preprocessing['italin'].apply(lambda x: str(x))\n",
    "data_preprocessing['italin'] = '<sos> '+data_preprocessing['italin']+' <eos>'"
   ]
  },
  {
   "cell_type": "code",
   "execution_count": null,
   "metadata": {},
   "outputs": [],
   "source": [
    "from sklearn.model_selection import train_test_split\n",
    "train, test = train_test_split(data_preprocessing, test_size = 0.1, random_state = 0)\n",
    "train, validation = train_test_split(train, test_size = 0.1, random_state = 0)"
   ]
  },
  {
   "cell_type": "code",
   "execution_count": 13,
   "metadata": {
    "id": "8N3FDR0HFvsh"
   },
   "outputs": [],
   "source": [
    "from tensorflow.keras.preprocessing.text import Tokenizer\n",
    "tokenizer_italian = Tokenizer()\n",
    "tokenizer_italian.fit_on_texts(train['italin'].values)\n",
    "tokenizer_english = Tokenizer(filters='!\"#$%&()*+,-./:;=?@[\\\\]^_`{|}~\\t\\n')\n",
    "tokenizer_english.fit_on_texts(train['english_inp'].values + train['english_out'].values)"
   ]
  },
  {
   "cell_type": "code",
   "execution_count": 14,
   "metadata": {
    "id": "CpfyvpHfFvsi"
   },
   "outputs": [],
   "source": [
    "eng_vc_len = data_preprocessing['italin'].astype(str).apply(lambda x: len(x))\n",
    "ita_vc_len = data_preprocessing['english_inp'].astype(str).apply(lambda x: len(x))"
   ]
  },
  {
   "cell_type": "code",
   "execution_count": 15,
   "metadata": {
    "colab": {
     "base_uri": "https://localhost:8080/"
    },
    "id": "egq1--msFvsj",
    "outputId": "9d386c56-b23a-401e-a113-ebaf7757a78d"
   },
   "outputs": [
    {
     "name": "stdout",
     "output_type": "stream",
     "text": [
      "0 12.0\n",
      "10 24.0\n",
      "20 26.0\n",
      "30 28.0\n",
      "40 29.0\n",
      "50 31.0\n",
      "60 32.0\n",
      "70 34.0\n",
      "80 35.0\n",
      "90 38.0\n",
      "100 112.0\n",
      "90 38.0\n",
      "91 38.0\n",
      "92 39.0\n",
      "93 39.0\n",
      "94 40.0\n",
      "95 40.0\n",
      "96 41.0\n",
      "97 42.0\n",
      "98 43.0\n",
      "99 45.0\n",
      "100 112.0\n",
      "99.1 45.0\n",
      "99.2 46.0\n",
      "99.3 46.0\n",
      "99.4 46.0\n",
      "99.5 47.0\n",
      "99.6 48.0\n",
      "99.7 48.0\n",
      "99.8 49.0\n",
      "99.9 51.00100000000384\n",
      "100 112.0\n"
     ]
    }
   ],
   "source": [
    "for i in range(0,101,10):\n",
    "    print(i,np.percentile(eng_vc_len, i))\n",
    "for i in range(90,101):\n",
    "    print(i,np.percentile(eng_vc_len, i))\n",
    "for i in [99.1,99.2,99.3,99.4,99.5,99.6,99.7,99.8,99.9,100]:\n",
    "    print(i,np.percentile(eng_vc_len, i))"
   ]
  },
  {
   "cell_type": "code",
   "execution_count": 16,
   "metadata": {
    "colab": {
     "base_uri": "https://localhost:8080/"
    },
    "id": "PJekGbwtFvsk",
    "outputId": "3f992277-938c-427a-c332-6617c5832b59"
   },
   "outputs": [
    {
     "name": "stdout",
     "output_type": "stream",
     "text": [
      "0 8.0\n",
      "10 18.0\n",
      "20 20.0\n",
      "30 21.0\n",
      "40 22.0\n",
      "50 23.0\n",
      "60 24.0\n",
      "70 25.0\n",
      "80 25.0\n",
      "90 26.0\n",
      "100 43.0\n",
      "90 26.0\n",
      "91 26.0\n",
      "92 26.0\n",
      "93 26.0\n",
      "94 26.0\n",
      "95 27.0\n",
      "96 27.0\n",
      "97 27.0\n",
      "98 27.0\n",
      "99 28.0\n",
      "100 43.0\n",
      "99.1 28.0\n",
      "99.2 28.0\n",
      "99.3 28.0\n",
      "99.4 28.0\n",
      "99.5 28.0\n",
      "99.6 28.0\n",
      "99.7 28.0\n",
      "99.8 29.0\n",
      "99.9 29.0\n",
      "100 43.0\n"
     ]
    }
   ],
   "source": [
    "for i in range(0,101,10):\n",
    "    print(i,np.percentile(ita_vc_len, i))\n",
    "for i in range(90,101):\n",
    "    print(i,np.percentile(ita_vc_len, i))\n",
    "for i in [99.1,99.2,99.3,99.4,99.5,99.6,99.7,99.8,99.9,100]:\n",
    "    print(i,np.percentile(ita_vc_len, i))"
   ]
  },
  {
   "cell_type": "code",
   "execution_count": 17,
   "metadata": {
    "id": "X67EM_uuFvsk"
   },
   "outputs": [],
   "source": [
    "eng_voc_len = 0\n",
    "set_eng = set()\n",
    "for i in data_preprocessing['english_inp'].values+data_preprocessing['english_out'].values:\n",
    "    x = len(i.split())\n",
    "    if x > eng_voc_len:\n",
    "        eng_voc_len = x\n",
    "    for j in i.split():\n",
    "        set_eng.add(j)\n",
    "set_eng_size = len(set_eng)\n",
    "\n",
    "ita_voc_len = 0\n",
    "set_ita = set()\n",
    "for i in data_preprocessing['italin']:\n",
    "    x = len(i.split())\n",
    "    if x > ita_voc_len:\n",
    "        ita_voc_len = x\n",
    "    for j in i.split():\n",
    "        set_ita.add(j)\n",
    "set_ita_size = len(set_ita)"
   ]
  },
  {
   "cell_type": "code",
   "execution_count": 18,
   "metadata": {
    "id": "Aq3sTFyEFvsk"
   },
   "outputs": [],
   "source": [
    "from tensorflow.keras.preprocessing.sequence import pad_sequences\n",
    "from tensorflow.keras.utils import to_categorical\n",
    "\n",
    "\"\"\"Ref: https://gist.github.com/ashishthomaschempolil/3539a83449645391328e4694b177b18a\"\"\"\n",
    "class Dataset:\n",
    "    def __init__(self, data, tokenizer_italian, tokenizer_english, ita_voc_len, eng_voc_len):\n",
    "        self.encd_inputs = data['italin'].values\n",
    "        self.decd_inputs = data['english_inp'].values\n",
    "        self.decd_outputs = data['english_out'].values\n",
    "        self.tokenizer_english = tokenizer_english\n",
    "        self.tokenizer_italian = tokenizer_italian\n",
    "        self.ita_voc_len = ita_voc_len\n",
    "        self.eng_voc_len = eng_voc_len\n",
    "\n",
    "    def __getitem__(self, i):\n",
    "        self.encd_sequence = self.tokenizer_italian.texts_to_sequences([self.encd_inputs[i]]) # need to pass list of values\n",
    "        self.decd_input_sequence = self.tokenizer_english.texts_to_sequences([self.decd_inputs[i]])\n",
    "        self.decd_output_sequence = self.tokenizer_english.texts_to_sequences([self.decd_outputs[i]])\n",
    "\n",
    "        self.encd_sequence = pad_sequences(self.encd_sequence, maxlen=self.ita_voc_len, dtype='int32', padding='post')\n",
    "        self.decd_input_sequence = pad_sequences(self.decd_input_sequence, maxlen=self.eng_voc_len, dtype='int32', padding='post')\n",
    "        self.decd_output_sequence = pad_sequences(self.decd_output_sequence, maxlen=self.eng_voc_len, dtype='int32', padding='post')\n",
    "        return self.encd_sequence, self.decd_input_sequence, self.decd_output_sequence\n",
    "\n",
    "    def __len__(self): \n",
    "        return len(self.encd_inputs)\n",
    "\n",
    "\"\"\"Ref: https://gist.github.com/ashishthomaschempolil/60277e4ca6e7541dc96ef195fd5b839e\"\"\"\n",
    "class Dataloder(tf.keras.utils.Sequence):    \n",
    "    def __init__(self, dataset, batch_size):\n",
    "        self.dataset = dataset\n",
    "        self.batch_size = batch_size\n",
    "        self.indexes = np.arange(len(self.dataset.encd_inputs))\n",
    "\n",
    "    def __getitem__(self, i):\n",
    "        start = i * self.batch_size\n",
    "        stop = (i + 1) * self.batch_size\n",
    "        data = []\n",
    "        for j in range(start, stop):\n",
    "            data.append(self.dataset[j])\n",
    "\n",
    "        batch = [np.squeeze(np.stack(samples, axis=1), axis=0) for samples in zip(*data)]\n",
    "        return tuple([[tf.convert_to_tensor(batch[0]), tf.convert_to_tensor(batch[1])], tf.convert_to_tensor(batch[2])])\n",
    "\n",
    "    def __len__(self):  \n",
    "        return len(self.indexes) // self.batch_size\n",
    "\n",
    "    def on_epoch_end(self):\n",
    "        self.indexes = np.random.permutation(self.indexes)"
   ]
  },
  {
   "cell_type": "code",
   "execution_count": 19,
   "metadata": {
    "colab": {
     "base_uri": "https://localhost:8080/"
    },
    "id": "M3kCtJWFFvsk",
    "outputId": "2cb5be64-95ba-4609-9f20-91d952c328fc"
   },
   "outputs": [
    {
     "name": "stdout",
     "output_type": "stream",
     "text": [
      "Loaded 400000 word vectors.\n"
     ]
    }
   ],
   "source": [
    "\"\"\"Ref: https://ppasumarthi-69210.medium.com/word-embeddings-in-keras-be6bb3092831\"\"\"\n",
    "embeddings_index = dict()\n",
    "f = open('glove.6B.300d.txt', encoding = 'utf-8')\n",
    "for line in f:\n",
    "    values = line.split()\n",
    "    word = values[0]\n",
    "    coefs = np.asarray(values[1:], dtype='float32')\n",
    "    embeddings_index[word] = coefs\n",
    "f.close()\n",
    "print('Loaded %s word vectors.' % len(embeddings_index))"
   ]
  },
  {
   "cell_type": "markdown",
   "metadata": {},
   "source": [
    "![](emb_mat.png)"
   ]
  },
  {
   "cell_type": "code",
   "execution_count": 20,
   "metadata": {
    "id": "rSEX9JnJFvsk"
   },
   "outputs": [],
   "source": [
    "\"\"\"Ref: https://ppasumarthi-69210.medium.com/word-embeddings-in-keras-be6bb3092831\"\"\"\n",
    "embedding_matrix = np.zeros((eng_vocab_size, 300))\n",
    "for word, i in tokenizer_english.word_index.items():\n",
    "    embedding_vector = embeddings_index.get(ord)\n",
    "    if embedding_vector is not None:\n",
    "        embedding_matrix[i] = embedding_vector"
   ]
  },
  {
   "cell_type": "markdown",
   "metadata": {},
   "source": [
    "![](emb_mat_2.png)"
   ]
  },
  {
   "cell_type": "code",
   "execution_count": 21,
   "metadata": {
    "id": "goP6cd8WFvsk"
   },
   "outputs": [],
   "source": [
    "from tensorflow.keras.callbacks import ModelCheckpoint, TensorBoard, EarlyStopping, ReduceLROnPlateau\n",
    "import os\n",
    "import datetime\n",
    "batch_size=32\n",
    "lstm_size=128\n",
    "eng_voc_len = 50\n",
    "ita_txt_len = 29\n",
    "embedding_dim = 300\n",
    "dense_units = 256\n",
    "\n",
    "tr_dat = Dataset(train, tokenizer_italian, tokenizer_english, ita_txt_len, eng_voc_len)\n",
    "te_dat  = Dataset(test, tokenizer_italian, tokenizer_english, ita_txt_len, eng_voc_len)\n",
    "val_dat  = Dataset(validation, tokenizer_italian, tokenizer_english, ita_txt_len, eng_voc_len)\n",
    "\n",
    "train_dataloader = Dataloder(tr_dat, batch_size=batch_size)\n",
    "test_dataloader = Dataloder(te_dat, batch_size=batch_size)\n",
    "val_dataloader = Dataloder(val_dat, batch_size = batch_size)"
   ]
  },
  {
   "cell_type": "code",
   "execution_count": 23,
   "metadata": {
    "colab": {
     "base_uri": "https://localhost:8080/"
    },
    "id": "cckTG9HQFvsl",
    "outputId": "6adcff69-2a34-4262-9be0-b9d89327368e"
   },
   "outputs": [
    {
     "name": "stdout",
     "output_type": "stream",
     "text": [
      "Epoch 1/35\n",
      "2531/2531 [==============================] - 275s 108ms/step - loss: 0.9992 - val_loss: 0.3312\n",
      "\n",
      "Epoch 00001: val_loss improved from inf to 0.33121, saving model to ita_eng_1\n",
      "Epoch 2/35\n",
      "2531/2531 [==============================] - 273s 108ms/step - loss: 0.3164 - val_loss: 0.2709\n",
      "\n",
      "Epoch 00002: val_loss improved from 0.33121 to 0.27088, saving model to ita_eng_1\n",
      "Epoch 3/35\n",
      "2531/2531 [==============================] - 278s 110ms/step - loss: 0.2514 - val_loss: 0.2185\n",
      "\n",
      "Epoch 00003: val_loss improved from 0.27088 to 0.21847, saving model to ita_eng_1\n",
      "Epoch 4/35\n",
      "2531/2531 [==============================] - 278s 110ms/step - loss: 0.1987 - val_loss: 0.1833\n",
      "\n",
      "Epoch 00004: val_loss improved from 0.21847 to 0.18326, saving model to ita_eng_1\n",
      "Epoch 5/35\n",
      "2531/2531 [==============================] - 278s 110ms/step - loss: 0.1594 - val_loss: 0.1531\n",
      "\n",
      "Epoch 00005: val_loss improved from 0.18326 to 0.15313, saving model to ita_eng_1\n",
      "Epoch 6/35\n",
      "2531/2531 [==============================] - 279s 110ms/step - loss: 0.1247 - val_loss: 0.1276\n",
      "\n",
      "Epoch 00006: val_loss improved from 0.15313 to 0.12762, saving model to ita_eng_1\n",
      "Epoch 7/35\n",
      "2531/2531 [==============================] - 279s 110ms/step - loss: 0.0946 - val_loss: 0.1081\n",
      "\n",
      "Epoch 00007: val_loss improved from 0.12762 to 0.10805, saving model to ita_eng_1\n",
      "Epoch 8/35\n",
      "2531/2531 [==============================] - 279s 110ms/step - loss: 0.0716 - val_loss: 0.0935\n",
      "\n",
      "Epoch 00008: val_loss improved from 0.10805 to 0.09355, saving model to ita_eng_1\n",
      "Epoch 9/35\n",
      "2531/2531 [==============================] - 279s 110ms/step - loss: 0.0545 - val_loss: 0.0841\n",
      "\n",
      "Epoch 00009: val_loss improved from 0.09355 to 0.08409, saving model to ita_eng_1\n",
      "Epoch 10/35\n",
      "2531/2531 [==============================] - 277s 110ms/step - loss: 0.0432 - val_loss: 0.0772\n",
      "\n",
      "Epoch 00010: val_loss improved from 0.08409 to 0.07716, saving model to ita_eng_1\n",
      "Epoch 11/35\n",
      "2531/2531 [==============================] - 277s 109ms/step - loss: 0.0349 - val_loss: 0.0735\n",
      "\n",
      "Epoch 00011: val_loss improved from 0.07716 to 0.07353, saving model to ita_eng_1\n",
      "Epoch 12/35\n",
      "2531/2531 [==============================] - 276s 109ms/step - loss: 0.0293 - val_loss: 0.0708\n",
      "\n",
      "Epoch 00012: val_loss improved from 0.07353 to 0.07081, saving model to ita_eng_1\n",
      "Epoch 13/35\n",
      "2531/2531 [==============================] - 275s 109ms/step - loss: 0.0249 - val_loss: 0.0688\n",
      "\n",
      "Epoch 00013: val_loss improved from 0.07081 to 0.06884, saving model to ita_eng_1\n",
      "Epoch 14/35\n",
      "2531/2531 [==============================] - 271s 107ms/step - loss: 0.0218 - val_loss: 0.0674\n",
      "\n",
      "Epoch 00014: val_loss improved from 0.06884 to 0.06737, saving model to ita_eng_1\n",
      "Epoch 15/35\n",
      "2531/2531 [==============================] - 270s 107ms/step - loss: 0.0194 - val_loss: 0.0672\n",
      "\n",
      "Epoch 00015: val_loss improved from 0.06737 to 0.06724, saving model to ita_eng_1\n",
      "Epoch 16/35\n",
      "2531/2531 [==============================] - 272s 108ms/step - loss: 0.0174 - val_loss: 0.0665\n",
      "\n",
      "Epoch 00016: val_loss improved from 0.06724 to 0.06654, saving model to ita_eng_1\n",
      "Epoch 17/35\n",
      "2531/2531 [==============================] - 270s 107ms/step - loss: 0.0160 - val_loss: 0.0662\n",
      "\n",
      "Epoch 00017: val_loss improved from 0.06654 to 0.06616, saving model to ita_eng_1\n",
      "Epoch 18/35\n",
      "2531/2531 [==============================] - 274s 108ms/step - loss: 0.0150 - val_loss: 0.0659\n",
      "\n",
      "Epoch 00018: val_loss improved from 0.06616 to 0.06593, saving model to ita_eng_1\n",
      "Epoch 19/35\n",
      "2531/2531 [==============================] - 272s 107ms/step - loss: 0.0141 - val_loss: 0.0663\n",
      "\n",
      "Epoch 00019: val_loss did not improve from 0.06593\n",
      "Epoch 20/35\n",
      "2531/2531 [==============================] - 272s 107ms/step - loss: 0.0132 - val_loss: 0.0657\n",
      "\n",
      "Epoch 00020: val_loss improved from 0.06593 to 0.06566, saving model to ita_eng_1\n",
      "Epoch 21/35\n",
      "2531/2531 [==============================] - 271s 107ms/step - loss: 0.0126 - val_loss: 0.0666\n",
      "\n",
      "Epoch 00021: val_loss did not improve from 0.06566\n",
      "Epoch 22/35\n",
      "2531/2531 [==============================] - 270s 107ms/step - loss: 0.0121 - val_loss: 0.0668\n",
      "\n",
      "Epoch 00022: val_loss did not improve from 0.06566\n",
      "Epoch 23/35\n",
      "2531/2531 [==============================] - 272s 108ms/step - loss: 0.0117 - val_loss: 0.0669\n",
      "\n",
      "Epoch 00023: val_loss did not improve from 0.06566\n",
      "\n",
      "Epoch 00023: ReduceLROnPlateau reducing learning rate to 0.00010000000474974513.\n",
      "Epoch 24/35\n",
      "2531/2531 [==============================] - 266s 105ms/step - loss: 0.0095 - val_loss: 0.0640\n",
      "\n",
      "Epoch 00024: val_loss improved from 0.06566 to 0.06402, saving model to ita_eng_1\n",
      "Epoch 25/35\n",
      "2531/2531 [==============================] - 266s 105ms/step - loss: 0.0080 - val_loss: 0.0637\n",
      "\n",
      "Epoch 00025: val_loss improved from 0.06402 to 0.06373, saving model to ita_eng_1\n",
      "Epoch 26/35\n",
      "2531/2531 [==============================] - 269s 106ms/step - loss: 0.0076 - val_loss: 0.0639\n",
      "\n",
      "Epoch 00026: val_loss did not improve from 0.06373\n",
      "Epoch 27/35\n",
      "2531/2531 [==============================] - 270s 107ms/step - loss: 0.0074 - val_loss: 0.0639\n",
      "\n",
      "Epoch 00027: val_loss did not improve from 0.06373\n",
      "Epoch 28/35\n",
      "2531/2531 [==============================] - 271s 107ms/step - loss: 0.0073 - val_loss: 0.0642\n",
      "\n",
      "Epoch 00028: val_loss did not improve from 0.06373\n",
      "\n",
      "Epoch 00028: ReduceLROnPlateau reducing learning rate to 1.0000000474974514e-05.\n",
      "Epoch 29/35\n",
      "2531/2531 [==============================] - 271s 107ms/step - loss: 0.0070 - val_loss: 0.0642\n",
      "\n",
      "Epoch 00029: val_loss did not improve from 0.06373\n",
      "Epoch 30/35\n",
      "2531/2531 [==============================] - 270s 107ms/step - loss: 0.0069 - val_loss: 0.0643\n",
      "\n",
      "Epoch 00030: val_loss did not improve from 0.06373\n",
      "Epoch 00030: early stopping\n"
     ]
    },
    {
     "data": {
      "text/plain": [
       "<tensorflow.python.keras.callbacks.History at 0x7fcf0a031e80>"
      ]
     },
     "execution_count": 23,
     "metadata": {
      "tags": []
     },
     "output_type": "execute_result"
    }
   ],
   "source": [
    "model = Encoder_decoder(set_ita_size, set_eng_size, embedding_dim, lstm_size, ita_txt_len, eng_voc_len, dense_units)\n",
    "model.compile(optimizer = 'Adam', loss = 'sparse_categorical_crossentropy')\n",
    "log_dir=\"logs/seq2seq/\" + datetime.datetime.now().strftime(\"%Y%m%d-%H%M%S\")\n",
    "call_back = [ModelCheckpoint('ita_eng_1', save_best_only= True, verbose = 1),TensorBoard(log_dir = log_dir, \n",
    "                              histogram_freq=1, write_graph=True), EarlyStopping(patience = 5, verbose = 1),\n",
    "                              ReduceLROnPlateau(patience = 3, verbose = 1)]\n",
    "\n",
    "model.fit(x = train_dataloader, steps_per_epoch = train_dataloader.__len__(),\n",
    "          validation_data = val_dataloader, validation_steps = val_dataloader.__len__(),\n",
    "          epochs = 35, verbose = 1, callbacks = call_back)"
   ]
  },
  {
   "cell_type": "code",
   "execution_count": 24,
   "metadata": {
    "id": "JQbykPAtFvsl"
   },
   "outputs": [],
   "source": [
    "class pred_Encoder_decoder(tf.keras.Model): \n",
    "    def __init__(self,*params):\n",
    "        super().__init__()\n",
    "        self.encoder = Encoder(inp_vocab_size = params[0], embedding_size = params[2], lstm_size = params[3], input_length = params[4])\n",
    "        self.decoder = Decoder(out_vocab_size = params[1], embedding_size = params[2], lstm_size = params[3], input_length = params[5])\n",
    "        self.dense = Dense(params[1], activation='softmax')\n",
    "    \n",
    "    def call(self, params, training = True):\n",
    "        enc_inp = params[0]\n",
    "        initial_state = self.encoder.initialize_states(1)\n",
    "        output_state, enc_h, enc_c = self.encoder(enc_inp, initial_state)\n",
    "        pred = tf.expand_dims([tokenizer_english.word_index['<sos>']], 0)\n",
    "        dec_h = enc_h\n",
    "        dec_c = enc_c\n",
    "        all_pred = []\n",
    "        for t in range(eng_voc_len):  \n",
    "            pred, dec_h,dec_c = self.decoder(pred, [dec_h, dec_c])\n",
    "            pred = self.dense(pred)\n",
    "            pred = tf.argmax(pred, axis = -1)\n",
    "            all_pred.append(pred)\n",
    "        return all_pred"
   ]
  },
  {
   "cell_type": "markdown",
   "metadata": {},
   "source": [
    "Ref: https://vineethaswani2.medium.com/spelling-error-correction-7154f781354c\n",
    "![](pred_Encoder_decoder.png)"
   ]
  },
  {
   "cell_type": "code",
   "execution_count": 25,
   "metadata": {
    "colab": {
     "base_uri": "https://localhost:8080/"
    },
    "id": "oaUaqfbgFvsl",
    "outputId": "e8bcb984-7dd4-49d1-bcc7-5e97773f208c"
   },
   "outputs": [
    {
     "data": {
      "text/plain": [
       "<tensorflow.python.training.tracking.util.CheckpointLoadStatus at 0x7fcf0bdb2e80>"
      ]
     },
     "execution_count": 25,
     "metadata": {
      "tags": []
     },
     "output_type": "execute_result"
    }
   ],
   "source": [
    "final_output = pred_Encoder_decoder(set_ita_size, set_eng_size, embedding_dim, lstm_size, ita_txt_len, eng_voc_len, dense_units)\n",
    "final_output.compile(optimizer = 'Adam', loss = 'sparse_categorical_crossentropy')\n",
    "final_output.load_weights('/content/ita_eng_1')"
   ]
  },
  {
   "cell_type": "code",
   "execution_count": 26,
   "metadata": {
    "id": "jzhHzkOEFvsl"
   },
   "outputs": [],
   "source": [
    "def predict(input_sequence):\n",
    "    x = preprocess(input_sequence)\n",
    "    x = '<sos> '+x+' <eos>'\n",
    "    x = tokenizer_italian.texts_to_sequences([x])\n",
    "    x = pad_sequences(seq, maxlen=ita_txt_len, padding='post', dtype = np.int32)\n",
    "    y = final_output.predict(tf.expand_dims(seq, 0))\n",
    "    z = []\n",
    "    for i in y:\n",
    "        word = tokenizer_english.index_word[i[0][0]]\n",
    "        if word == '<eos>':\n",
    "            break\n",
    "        z.append(word)\n",
    "    return ' '.join(z)   "
   ]
  },
  {
   "cell_type": "code",
   "execution_count": 27,
   "metadata": {
    "colab": {
     "base_uri": "https://localhost:8080/"
    },
    "id": "5qF9OQ5nFvsl",
    "outputId": "2daf9f00-c67a-44eb-9632-52feff0ff428"
   },
   "outputs": [
    {
     "name": "stdout",
     "output_type": "stream",
     "text": [
      "input :  ha appena chiamato qualcuno\n",
      "predicted output :  somebody just called\n",
      "actual output : somebody just called\n"
     ]
    }
   ],
   "source": [
    "pr_final = train['italin'].values[0][6:-6]\n",
    "print('input : ', pr_final)\n",
    "result = predict(pr_final)\n",
    "print('predicted output : ',result)\n",
    "print('actual output :', train['english'].values[0])"
   ]
  },
  {
   "cell_type": "code",
   "execution_count": 28,
   "metadata": {
    "colab": {
     "base_uri": "https://localhost:8080/"
    },
    "id": "LGjXMMw9Fvsl",
    "outputId": "42640cf2-7275-4bad-a656-2010354bf040"
   },
   "outputs": [
    {
     "name": "stdout",
     "output_type": "stream",
     "text": [
      "input :  io ero gelosa di voi\n",
      "predicted output :  i was jealous of you\n",
      "actual output : i was jealous of you\n"
     ]
    }
   ],
   "source": [
    "pr_final = train['italin'].values[1000][6:-6]\n",
    "print('input : ', pr_final)\n",
    "result = predict(pr_final)\n",
    "print('predicted output : ',result)\n",
    "print('actual output :', train['english'].values[1000])"
   ]
  },
  {
   "cell_type": "code",
   "execution_count": 29,
   "metadata": {
    "colab": {
     "base_uri": "https://localhost:8080/"
    },
    "id": "R7JtmdGnFvsl",
    "outputId": "2d6da359-5446-461e-bbb2-9aae946dda74"
   },
   "outputs": [
    {
     "name": "stdout",
     "output_type": "stream",
     "text": [
      "Bleu Score : 0.8391122289889017\n"
     ]
    }
   ],
   "source": [
    "from nltk.translate.bleu_score import sentence_bleu\n",
    "initial =0\n",
    "for i in range(1000):\n",
    "    pr_final = test['italin'].values[i][6:-6]\n",
    "    con = test['english'].values[i]\n",
    "    pred = predict(pr_final)\n",
    "    initial+= sentence_bleu([con.split()], pred.split())\n",
    "print('Bleu Score : {}'.format(score/1000))"
   ]
  },
  {
   "cell_type": "markdown",
   "metadata": {
    "id": "3-pmfYwyFvsm"
   },
   "source": [
    "## Task -2: Including Attention mechanisum\n",
    "\n",
    "1. Use the preprocessed data from Task-1\n",
    "\n",
    "2. You have to implement an Encoder and Decoder architecture with  \n",
    "attention as discussed in the reference notebook.\n",
    "\n",
    "    * Encoder   - with 1 layer LSTM <br>\n",
    "    * Decoder   - with 1 layer LSTM<br>\n",
    "    * attention -  (Please refer the <a href= 'https://drive.google.com/file/d/1z_bnc-3aubKawbR6q8wyI6Mh5ho2R1aZ/view?usp=sharing'>**reference notebook**</a> to know more about the attention mechanism.)\n",
    "3. In Global attention, we have 3 types of scoring functions(as discussed in the reference notebook).\n",
    " As a part of this assignment **you need to create 3 models for each scoring function**\n",
    "<img src='https://i.imgur.com/iD2jZo3.png'>\n",
    "\n",
    "    * In model 1 you need to implemnt \"dot\" score function\n",
    "    * In model 2 you need to implemnt \"general\" score function\n",
    "    * In model 3 you need to implemnt \"concat\" score function.<br>\n",
    "    \n",
    " **Please do add the markdown titles for each model so that we can have a better look at the code and verify.**\n",
    "4. It is mandatory to train the model with simple model.fit() only, Donot train the model with custom GradientTape()\n",
    "\n",
    "5. Using attention weights, you can plot the attention plots, \n",
    "please plot those for 2-3 examples. You can check about those in <a href=\"https://www.tensorflow.org/tutorials/text/nmt_with_attention#translate\">this</a>\n",
    "\n",
    "6. The attention layer has to be written by yourself only. \n",
    "The main objective of this assignment is to read and implement a paper on yourself so please do it yourself.  \n",
    "\n",
    "7. Please implement the class **onestepdecoder** as mentioned in the assignment instructions.\n",
    "\n",
    "8. You can use any tf.Keras highlevel API's to build and train the models. \n",
    " Check the reference notebook for better understanding.\n",
    "\n",
    "9. Use BLEU score as metric to evaluate your model. You can use any loss function you need.\n",
    "\n",
    "10. You have to use Tensorboard to plot the Graph, Scores and histograms of gradients. \n",
    "\n",
    "11. Resources:\n",
    "    a. Check the reference notebook\n",
    "    b. <a href=\"https://jalammar.github.io/visualizing-neural-machine-translation-mechanics-of-seq2seq-models-with-attention/\">Resource 1</a>\n",
    "    c. <a href=\"https://www.tensorflow.org/tutorials/text/nmt_with_attention\">Resource 2</a>\n",
    "    d. <a href=\"https://stackoverflow.com/questions/44238154/what-is-the-difference-between-luong-attention-and-bahdanau-attention#:~:text=Luong%20attention%20used%20top%20hidden,hidden%20state%20at%20time%20t.\">Resource 3</a>\n",
    "    \n",
    "    \n",
    "### <font color='red'>**Implement custom encoder decoder and attention layers**</font>\n",
    "<font color='red'>**Encoder**</font>"
   ]
  },
  {
   "cell_type": "code",
   "execution_count": 30,
   "metadata": {
    "id": "NAEe06UZFvsm"
   },
   "outputs": [],
   "source": [
    "from tensorflow.keras.layers import *\n",
    "class Encoder(tf.keras.Model):\n",
    "\n",
    "    def __init__(self,inp_vocab_size,embedding_size,lstm_size,input_length):\n",
    "        super(Encoder, self).__init__()\n",
    "        self.lstm_size = lstm_size\n",
    "        self.enc_embed = Embedding(input_dim = inp_vocab_size, output_dim = embedding_size)\n",
    "        self.enc_lstm = LSTM(lstm_size, return_sequences = True, return_state = True)\n",
    "        \n",
    "    def call(self,input_sequence,states):\n",
    "        embedding = self.enc_embed(input_sequence)\n",
    "        output_state, enc_h, enc_c = self.enc_lstm(embedding, initial_state = states)\n",
    "        return output_state, enc_h, enc_c\n",
    "    \n",
    "    def initialize_states(self,batch_size):\n",
    "        return [tf.zeros((batch_size, self.lstm_size)), tf.zeros((batch_size, self.lstm_size))]"
   ]
  },
  {
   "cell_type": "markdown",
   "metadata": {},
   "source": [
    "Ref: https://vineethaswani2.medium.com/spelling-error-correction-7154f781354c\n",
    "![](encoder.png)"
   ]
  },
  {
   "cell_type": "markdown",
   "metadata": {
    "id": "MXYAA42-Fvsm"
   },
   "source": [
    "<font color='cyan'>**Grader function - 1**</font>"
   ]
  },
  {
   "cell_type": "code",
   "execution_count": 31,
   "metadata": {
    "colab": {
     "base_uri": "https://localhost:8080/"
    },
    "id": "tKIVFzhYFvsm",
    "outputId": "5886a6d3-3280-4efc-cb5a-8df02ec79143"
   },
   "outputs": [
    {
     "name": "stdout",
     "output_type": "stream",
     "text": [
      "True\n"
     ]
    }
   ],
   "source": [
    "def grader_check_encoder():\n",
    "    \n",
    "    '''\n",
    "        vocab-size: Unique words of the input language,\n",
    "        embedding_size: output embedding dimension for each word after embedding layer,\n",
    "        lstm_size: Number of lstm units in encoder,\n",
    "        input_length: Length of the input sentence,\n",
    "        batch_size\n",
    "    '''\n",
    "    \n",
    "    vocab_size=10\n",
    "    embedding_size=20\n",
    "    lstm_size=32\n",
    "    input_length=10\n",
    "    batch_size=16\n",
    "    encoder=Encoder(vocab_size,embedding_size,lstm_size,input_length)\n",
    "    input_sequence=tf.random.uniform(shape=[batch_size,input_length],maxval=vocab_size,minval=0,dtype=tf.int32)\n",
    "    initial_state=encoder.initialize_states(batch_size)\n",
    "    encoder_output,state_h,state_c=encoder(input_sequence,initial_state)\n",
    "    \n",
    "    assert(encoder_output.shape==(batch_size,input_length,lstm_size) and state_h.shape==(batch_size,lstm_size) and state_c.shape==(batch_size,lstm_size))\n",
    "    return True\n",
    "print(grader_check_encoder())"
   ]
  },
  {
   "cell_type": "markdown",
   "metadata": {
    "id": "a5WYKEIuFvsm"
   },
   "source": [
    "<font color='cyan'>**Attention**</font>"
   ]
  },
  {
   "cell_type": "code",
   "execution_count": 32,
   "metadata": {
    "id": "e-NH-CIgFvsm"
   },
   "outputs": [],
   "source": [
    "from tensorflow.keras.layers import *\n",
    "class Attention(tf.keras.layers.Layer):\n",
    "\n",
    "    def __init__(self,scoring_function, att_units):\n",
    "        super(Attention, self).__init__()\n",
    "        self.scoring_function = scoring_function\n",
    "        if scoring_function == 'dot':\n",
    "            self.dot = Dot(axes = (1, 2))\n",
    "        elif scoring_function == 'general':\n",
    "            self.W = Dense(att_units)\n",
    "            self.dot = Dot(axes = (1, 2))\n",
    "        elif scoring_function == 'concat':\n",
    "            self.W1 = Dense(att_units)\n",
    "            self.W2 = Dense(att_units)\n",
    "            self.V = Dense(1)\n",
    "    def call(self,decoder_hidden_state,encoder_output):\n",
    "    \n",
    "        decoder_hidden_state = tf.expand_dims(decoder_hidden_state, 1)\n",
    "        \n",
    "        if self.scoring_function == 'dot':\n",
    "            score = tf.transpose(self.dot([tf.transpose(decoder_hidden_state, (0, 2, 1)), encoder_output]), (0, 2,1))\n",
    "            \n",
    "        elif self.scoring_function == 'general':\n",
    "            mul = self.W(encoder_output)\n",
    "            score = tf.transpose(self.dot([tf.transpose(decoder_hidden_state, (0, 2, 1)), mul]), (0, 2,1))\n",
    "            \n",
    "        elif self.scoring_function == 'concat':\n",
    "            inter = self.W1(decoder_hidden_state) + self.W2(encoder_output)\n",
    "            tan = tf.nn.tanh(inter)\n",
    "            score = self.V(tan)\n",
    "        attention_weights = tf.nn.softmax(score, axis =1)\n",
    "        context_vector = attention_weights * encoder_output\n",
    "        context_vector = tf.reduce_sum(context_vector, axis=1)\n",
    "        return context_vector, attention_weights"
   ]
  },
  {
   "cell_type": "markdown",
   "metadata": {},
   "source": [
    "Ref: https://vineethaswani2.medium.com/spelling-error-correction-7154f781354c\n",
    "![](Attention.png)"
   ]
  },
  {
   "cell_type": "markdown",
   "metadata": {
    "id": "S-Oz3l_bFvsm"
   },
   "source": [
    "<font color='cyan'>**Grader function - 2**</font>"
   ]
  },
  {
   "cell_type": "code",
   "execution_count": 33,
   "metadata": {
    "colab": {
     "base_uri": "https://localhost:8080/"
    },
    "id": "pxZ-gv1nFvsn",
    "outputId": "b110727f-862b-4469-c08d-827e0e503595"
   },
   "outputs": [
    {
     "name": "stdout",
     "output_type": "stream",
     "text": [
      "True\n",
      "True\n",
      "True\n"
     ]
    }
   ],
   "source": [
    "def grader_check_attention(scoring_fun):\n",
    "    \n",
    "    ''' \n",
    "        att_units: Used in matrix multiplications for scoring functions,\n",
    "        input_length: Length of the input sentence,\n",
    "        batch_size\n",
    "    '''\n",
    "    \n",
    "    input_length=10\n",
    "    batch_size=16\n",
    "    att_units=32\n",
    "    \n",
    "    state_h=tf.random.uniform(shape=[batch_size,att_units])\n",
    "    encoder_output=tf.random.uniform(shape=[batch_size,input_length,att_units])\n",
    "    attention=Attention(scoring_fun,att_units)\n",
    "    context_vector,attention_weights=attention(state_h,encoder_output)\n",
    "    assert(context_vector.shape==(batch_size,att_units) and attention_weights.shape==(batch_size,input_length,1))\n",
    "    return True\n",
    "print(grader_check_attention('dot'))\n",
    "print(grader_check_attention('general'))\n",
    "print(grader_check_attention('concat'))"
   ]
  },
  {
   "cell_type": "markdown",
   "metadata": {
    "id": "sO4AUglUFvsn"
   },
   "source": [
    "<font color='red'>**OneStepDecoder**</font>"
   ]
  },
  {
   "cell_type": "code",
   "execution_count": 34,
   "metadata": {
    "id": "0GJ4xxdoFvsn"
   },
   "outputs": [],
   "source": [
    "class OneStepDecoder(tf.keras.layers.Layer):\n",
    "    def __init__(self,tar_vocab_size, embedding_dim, input_length, dec_units ,score_fun ,att_units):\n",
    "        super(OneStepDecoder, self).__init__()\n",
    "        self.embed_dec = Embedding(input_dim = tar_vocab_size, output_dim = embedding_dim)\n",
    "        self.lstm = LSTM(dec_units, return_sequences = True, return_state = True)\n",
    "        self.attention = Attention(scoring_function = score_fun, att_units = att_units)\n",
    "        self.fc = Dense(tar_vocab_size)\n",
    "    \n",
    "    def call(self,input_to_decoder, encoder_output, state_h,state_c):\n",
    "        embed = self.embed_dec(input_to_decoder)\n",
    "        context_vect, attention_weights = self.attention(state_h, encoder_output)    \n",
    "        final_inp = tf.concat([tf.expand_dims(context_vect, 1), embed], axis = -1)\n",
    "        out, dec_h, dec_c = self.lstm(final_inp, [state_h, state_c])\n",
    "        out = tf.reshape(out, (-1, out.shape[2]))\n",
    "        output = self.fc(out)\n",
    "        return output, dec_h, dec_c, attention_weights, context_vect"
   ]
  },
  {
   "cell_type": "markdown",
   "metadata": {},
   "source": [
    "Ref: https://vineethaswani2.medium.com/spelling-error-correction-7154f781354c\n",
    "![](OneStepDecoder.png)"
   ]
  },
  {
   "cell_type": "markdown",
   "metadata": {
    "id": "LrSGSFpJFvsn"
   },
   "source": [
    "<font color='cyan'>**Grader function - 3**</font>"
   ]
  },
  {
   "cell_type": "code",
   "execution_count": 35,
   "metadata": {
    "colab": {
     "base_uri": "https://localhost:8080/"
    },
    "id": "PkrrxU-yFvsn",
    "outputId": "b95a51e4-cf1f-4481-ec31-48ac6d7fca6f"
   },
   "outputs": [
    {
     "name": "stdout",
     "output_type": "stream",
     "text": [
      "True\n",
      "True\n",
      "True\n"
     ]
    }
   ],
   "source": [
    "def grader_onestepdecoder(score_fun):\n",
    "    \n",
    "    tar_vocab_size=13 \n",
    "    embedding_dim=12 \n",
    "    input_length=10\n",
    "    dec_units=16 \n",
    "    att_units=16\n",
    "    batch_size=32\n",
    "    onestepdecoder=OneStepDecoder(tar_vocab_size, embedding_dim, input_length, dec_units ,score_fun ,att_units)\n",
    "    input_to_decoder=tf.random.uniform(shape=(batch_size,1),maxval=10,minval=0,dtype=tf.int32)\n",
    "    encoder_output=tf.random.uniform(shape=[batch_size,input_length,dec_units])\n",
    "    state_h=tf.random.uniform(shape=[batch_size,dec_units])\n",
    "    state_c=tf.random.uniform(shape=[batch_size,dec_units])\n",
    "    output,state_h,state_c,attention_weights,context_vector=onestepdecoder(input_to_decoder,encoder_output,state_h,state_c)\n",
    "    assert(output.shape==(batch_size,tar_vocab_size))\n",
    "    assert(state_h.shape==(batch_size,dec_units))\n",
    "    assert(state_c.shape==(batch_size,dec_units))\n",
    "    assert(attention_weights.shape==(batch_size,input_length,1))\n",
    "    assert(context_vector.shape==(batch_size,dec_units))\n",
    "    return True\n",
    "    \n",
    "print(grader_onestepdecoder('dot'))\n",
    "print(grader_onestepdecoder('general'))\n",
    "print(grader_onestepdecoder('concat'))"
   ]
  },
  {
   "cell_type": "markdown",
   "metadata": {
    "id": "Yvry50s4Fvsn"
   },
   "source": [
    "<font color='red'>**Decoder**</font>"
   ]
  },
  {
   "cell_type": "code",
   "execution_count": 36,
   "metadata": {
    "id": "F3ncAuq7Fvsn"
   },
   "outputs": [],
   "source": [
    "\n",
    "class Decoder(tf.keras.layers.Layer):\n",
    "    def __init__(self,out_vocab_size, embedding_dim, input_length, dec_units ,score_fun ,att_units):\n",
    "        super(Decoder, self).__init__()\n",
    "        self.input_length = input_length\n",
    "        self.out_vocab_size = out_vocab_size\n",
    "        self.one_step_decoder = OneStepDecoder(out_vocab_size, embedding_dim, input_length, dec_units ,score_fun ,att_units)\n",
    "        self.out_vocab_size = out_vocab_size\n",
    "        \n",
    "    def call(self, input_to_decoder, encoder_output, decoder_hidden_state, decoder_cell_state):\n",
    "        all_outputs = tf.TensorArray(dtype = tf.float32, size= input_to_decoder.shape[1])\n",
    "        \n",
    "        for timestep in range(input_to_decoder.shape[1]):\n",
    "            output, decoder_hidden_state, decoder_cell_state, _, _ = self.one_step_decoder(input_to_decoder[:, timestep:timestep+1], \n",
    "                                                                                             encoder_output, \n",
    "                                                                                             decoder_hidden_state,\n",
    "                                                                                             decoder_cell_state)\n",
    "            all_outputs = all_outputs.write(timestep, output)\n",
    "        all_outputs = tf.transpose(all_outputs.stack(), (1, 0, 2))\n",
    "        return all_outputs"
   ]
  },
  {
   "cell_type": "markdown",
   "metadata": {},
   "source": [
    "Ref: https://vineethaswani2.medium.com/spelling-error-correction-7154f781354c"
   ]
  },
  {
   "cell_type": "markdown",
   "metadata": {
    "id": "HGbpDHwZFvso"
   },
   "source": [
    "<font color='cyan'>**Grader function - 4**</font>"
   ]
  },
  {
   "cell_type": "code",
   "execution_count": 37,
   "metadata": {
    "colab": {
     "base_uri": "https://localhost:8080/"
    },
    "id": "Ol6cM1LBFvso",
    "outputId": "5aec5f6b-e75b-4108-dba6-90b888eddfe7"
   },
   "outputs": [
    {
     "name": "stdout",
     "output_type": "stream",
     "text": [
      "True\n",
      "True\n",
      "True\n"
     ]
    }
   ],
   "source": [
    "def grader_decoder(score_fun):\n",
    "    \n",
    "    '''\n",
    "        out_vocab_size: Unique words of the target language,\n",
    "        embedding_dim: output embedding dimension for each word after embedding layer,\n",
    "        dec_units: Number of lstm units in decoder,\n",
    "        att_units: Used in matrix multiplications for scoring functions in attention class,\n",
    "        input_length: Length of the target sentence,\n",
    "        batch_size\n",
    "        \n",
    "    \n",
    "    '''\n",
    "    \n",
    "    out_vocab_size=13 \n",
    "    embedding_dim=12 \n",
    "    input_length=11\n",
    "    dec_units=16 \n",
    "    att_units=16\n",
    "    batch_size=32\n",
    "    \n",
    "    target_sentences=tf.random.uniform(shape=(batch_size,input_length),maxval=10,minval=0,dtype=tf.int32)\n",
    "    encoder_output=tf.random.uniform(shape=[batch_size,input_length,dec_units])\n",
    "    state_h=tf.random.uniform(shape=[batch_size,dec_units])\n",
    "    state_c=tf.random.uniform(shape=[batch_size,dec_units])\n",
    "    \n",
    "    decoder=Decoder(out_vocab_size, embedding_dim, input_length, dec_units ,score_fun ,att_units)\n",
    "    output=decoder(target_sentences,encoder_output, state_h, state_c)\n",
    "    assert(output.shape==(batch_size,input_length,out_vocab_size))\n",
    "    return True\n",
    "print(grader_decoder('dot'))\n",
    "print(grader_decoder('general'))\n",
    "print(grader_decoder('concat'))"
   ]
  },
  {
   "cell_type": "markdown",
   "metadata": {
    "id": "Jj14tyFzFvso"
   },
   "source": [
    "<font color='red'>**Encoder Decoder model**</font>"
   ]
  },
  {
   "cell_type": "code",
   "execution_count": 38,
   "metadata": {
    "id": "0Sqfv7UsFvso"
   },
   "outputs": [],
   "source": [
    "class encoder_decoder(tf.keras.Model):\n",
    "    def __init__(self, inp_vocab_size, out_vocab_size, embedding_dim, enc_units, dec_units, max_len_ita, max_len_eng, score_fun, att_units, batch_size):\n",
    "        super(encoder_decoder, self).__init__()\n",
    "        self.encoder = Encoder(inp_vocab_size, embedding_dim, enc_units, max_len_ita)\n",
    "        self.OneStepDecoder = OneStepDecoder(out_vocab_size, embedding_dim, max_len_eng, dec_units ,score_fun ,att_units)\n",
    "        self.batch_size = batch_size\n",
    "    \n",
    "    @tf.function\n",
    "    def call(self, data):\n",
    "        enc_inp, dec_inp = data[0], data[1]\n",
    "        initial_state = self.encoder.initialize_states(self.batch_size)\n",
    "        enc_output, enc_h, enc_c = self.encoder(enc_inp, initial_state)\n",
    "        all_outputs = tf.TensorArray(dtype = tf.float32, size= 50)\n",
    "        \n",
    "        dec_h = enc_h\n",
    "        dec_c = enc_c\n",
    "        for timestep in range(50):\n",
    "            output, dec_h, dec_c, _, _ = self.OneStepDecoder(dec_inp[:, timestep:timestep+1], \n",
    "                                                               enc_output, \n",
    "                                                               dec_h,\n",
    "                                                               dec_c)\n",
    "            all_outputs = all_outputs.write(timestep, output)\n",
    "        all_outputs = tf.transpose(all_outputs.stack(), (1, 0, 2))\n",
    "        return all_outputs"
   ]
  },
  {
   "cell_type": "markdown",
   "metadata": {},
   "source": [
    "Ref: https://vineethaswani2.medium.com/spelling-error-correction-7154f781354c\n",
    "![](encoder_decoder_2.png)"
   ]
  },
  {
   "cell_type": "markdown",
   "metadata": {
    "id": "5YgT438pFvso"
   },
   "source": [
    "<font color='red'>**Custom loss function**</font>"
   ]
  },
  {
   "cell_type": "code",
   "execution_count": 39,
   "metadata": {
    "id": "pbI2nEV6Fvso"
   },
   "outputs": [],
   "source": [
    "# Ref: https://www.tensorflow.org/tutorials/text/nmt_with_attention\n",
    "loss_object = tf.keras.losses.SparseCategoricalCrossentropy(from_logits=True, reduction='none')\n",
    "def loss_function(real, pred):\n",
    "    mask = tf.math.logical_not(tf.math.equal(real, 0))\n",
    "    loss_ = loss_object(real, pred)\n",
    "    mask = tf.cast(mask, dtype=loss_.dtype)\n",
    "    loss_ *= mask\n",
    "    return tf.reduce_mean(loss_)"
   ]
  },
  {
   "cell_type": "markdown",
   "metadata": {
    "id": "w4XPKLhBFvsp"
   },
   "source": [
    "<font color='red'>**Training**</font>\n",
    "* Implement dot function here."
   ]
  },
  {
   "cell_type": "code",
   "execution_count": 40,
   "metadata": {
    "id": "ga1Aj8Y3Fvsp"
   },
   "outputs": [],
   "source": [
    "from tensorflow.keras.callbacks import*\n",
    "import os\n",
    "batch_size=128\n",
    "lstm_size=128\n",
    "max_len_eng = 50\n",
    "ita_txt_len = 29\n",
    "embedding_dim = 100\n",
    "att_units = 256\n",
    "\n",
    "tr_dat = Dataset(train, tokenizer_italian, tokenizer_english, ita_txt_len, max_len_eng)\n",
    "te_dat  = Dataset(test, tokenizer_italian, tokenizer_english, ita_txt_len, max_len_eng)\n",
    "val_dat  = Dataset(validation, tokenizer_italian, tokenizer_english, ita_txt_len, max_len_eng)\n",
    "\n",
    "train_dataloader = Dataloder(tr_dat, batch_size=batch_size)\n",
    "test_dataloader = Dataloder(te_dat, batch_size=batch_size)\n",
    "val_dataloader = Dataloder(val_dat, batch_size = batch_size)"
   ]
  },
  {
   "cell_type": "code",
   "execution_count": 41,
   "metadata": {
    "id": "28ThqrD3Fvsp"
   },
   "outputs": [],
   "source": [
    "model = encoder_decoder(set_ita_size, set_eng_size, embedding_dim, lstm_size, lstm_size, \n",
    "                        ita_txt_len, max_len_eng, 'dot', att_units, batch_size)\n",
    "model.compile(optimizer = 'Adam', loss = loss_function)\n",
    "log_dir=\"logs/seq2seq/\" + datetime.datetime.now().strftime(\"%Y%m%d-%H%M%S\")\n",
    "call_back = [ModelCheckpoint('ita_eng_2', save_best_only= True, verbose = 1), TensorBoard(log_dir = log_dir, \n",
    "                             histogram_freq=1, write_graph=True), EarlyStopping(patience = 5, verbose = 1), ReduceLROnPlateau(patience = 3, \n",
    "                                                                                                                              verbose = 1)]"
   ]
  },
  {
   "cell_type": "code",
   "execution_count": 42,
   "metadata": {
    "colab": {
     "base_uri": "https://localhost:8080/"
    },
    "id": "zqWq9ER8Fvsp",
    "outputId": "9d86c8ad-b517-4d0f-91b2-d01b09d9ef6c"
   },
   "outputs": [
    {
     "name": "stdout",
     "output_type": "stream",
     "text": [
      "Epoch 1/35\n",
      "632/632 [==============================] - 170s 202ms/step - loss: 0.5416 - val_loss: 0.3954\n",
      "\n",
      "Epoch 00001: val_loss improved from inf to 0.39538, saving model to ita_eng_2\n",
      "Epoch 2/35\n",
      "632/632 [==============================] - 115s 183ms/step - loss: 0.3848 - val_loss: 0.3417\n",
      "\n",
      "Epoch 00002: val_loss improved from 0.39538 to 0.34175, saving model to ita_eng_2\n",
      "Epoch 3/35\n",
      "632/632 [==============================] - 114s 181ms/step - loss: 0.3314 - val_loss: 0.3047\n",
      "\n",
      "Epoch 00003: val_loss improved from 0.34175 to 0.30474, saving model to ita_eng_2\n",
      "Epoch 4/35\n",
      "632/632 [==============================] - 114s 180ms/step - loss: 0.2943 - val_loss: 0.2750\n",
      "\n",
      "Epoch 00004: val_loss improved from 0.30474 to 0.27497, saving model to ita_eng_2\n",
      "Epoch 5/35\n",
      "632/632 [==============================] - 114s 181ms/step - loss: 0.2613 - val_loss: 0.2449\n",
      "\n",
      "Epoch 00005: val_loss improved from 0.27497 to 0.24493, saving model to ita_eng_2\n",
      "Epoch 6/35\n",
      "632/632 [==============================] - 115s 182ms/step - loss: 0.2302 - val_loss: 0.2198\n",
      "\n",
      "Epoch 00006: val_loss improved from 0.24493 to 0.21983, saving model to ita_eng_2\n",
      "Epoch 7/35\n",
      "632/632 [==============================] - 116s 184ms/step - loss: 0.2031 - val_loss: 0.1998\n",
      "\n",
      "Epoch 00007: val_loss improved from 0.21983 to 0.19979, saving model to ita_eng_2\n",
      "Epoch 8/35\n",
      "632/632 [==============================] - 116s 183ms/step - loss: 0.1806 - val_loss: 0.1834\n",
      "\n",
      "Epoch 00008: val_loss improved from 0.19979 to 0.18336, saving model to ita_eng_2\n",
      "Epoch 9/35\n",
      "632/632 [==============================] - 115s 182ms/step - loss: 0.1617 - val_loss: 0.1678\n",
      "\n",
      "Epoch 00009: val_loss improved from 0.18336 to 0.16776, saving model to ita_eng_2\n",
      "Epoch 10/35\n",
      "632/632 [==============================] - 114s 181ms/step - loss: 0.1428 - val_loss: 0.1536\n",
      "\n",
      "Epoch 00010: val_loss improved from 0.16776 to 0.15365, saving model to ita_eng_2\n",
      "Epoch 11/35\n",
      "632/632 [==============================] - 114s 181ms/step - loss: 0.1257 - val_loss: 0.1406\n",
      "\n",
      "Epoch 00011: val_loss improved from 0.15365 to 0.14063, saving model to ita_eng_2\n",
      "Epoch 12/35\n",
      "632/632 [==============================] - 114s 180ms/step - loss: 0.1097 - val_loss: 0.1287\n",
      "\n",
      "Epoch 00012: val_loss improved from 0.14063 to 0.12873, saving model to ita_eng_2\n",
      "Epoch 13/35\n",
      "632/632 [==============================] - 114s 181ms/step - loss: 0.0952 - val_loss: 0.1175\n",
      "\n",
      "Epoch 00013: val_loss improved from 0.12873 to 0.11752, saving model to ita_eng_2\n",
      "Epoch 14/35\n",
      "632/632 [==============================] - 114s 180ms/step - loss: 0.0821 - val_loss: 0.1085\n",
      "\n",
      "Epoch 00014: val_loss improved from 0.11752 to 0.10854, saving model to ita_eng_2\n",
      "Epoch 15/35\n",
      "632/632 [==============================] - 114s 181ms/step - loss: 0.0709 - val_loss: 0.1008\n",
      "\n",
      "Epoch 00015: val_loss improved from 0.10854 to 0.10083, saving model to ita_eng_2\n",
      "Epoch 16/35\n",
      "632/632 [==============================] - 115s 182ms/step - loss: 0.0615 - val_loss: 0.0945\n",
      "\n",
      "Epoch 00016: val_loss improved from 0.10083 to 0.09452, saving model to ita_eng_2\n",
      "Epoch 17/35\n",
      "632/632 [==============================] - 116s 183ms/step - loss: 0.0528 - val_loss: 0.0896\n",
      "\n",
      "Epoch 00017: val_loss improved from 0.09452 to 0.08957, saving model to ita_eng_2\n",
      "Epoch 18/35\n",
      "632/632 [==============================] - 116s 184ms/step - loss: 0.0460 - val_loss: 0.0843\n",
      "\n",
      "Epoch 00018: val_loss improved from 0.08957 to 0.08427, saving model to ita_eng_2\n",
      "Epoch 19/35\n",
      "632/632 [==============================] - 115s 183ms/step - loss: 0.0407 - val_loss: 0.0808\n",
      "\n",
      "Epoch 00019: val_loss improved from 0.08427 to 0.08080, saving model to ita_eng_2\n",
      "Epoch 20/35\n",
      "632/632 [==============================] - 114s 181ms/step - loss: 0.0357 - val_loss: 0.0781\n",
      "\n",
      "Epoch 00020: val_loss improved from 0.08080 to 0.07811, saving model to ita_eng_2\n",
      "Epoch 21/35\n",
      "632/632 [==============================] - 115s 182ms/step - loss: 0.0317 - val_loss: 0.0756\n",
      "\n",
      "Epoch 00021: val_loss improved from 0.07811 to 0.07558, saving model to ita_eng_2\n",
      "Epoch 22/35\n",
      "632/632 [==============================] - 115s 182ms/step - loss: 0.0284 - val_loss: 0.0737\n",
      "\n",
      "Epoch 00022: val_loss improved from 0.07558 to 0.07367, saving model to ita_eng_2\n",
      "Epoch 23/35\n",
      "632/632 [==============================] - 115s 182ms/step - loss: 0.0255 - val_loss: 0.0729\n",
      "\n",
      "Epoch 00023: val_loss improved from 0.07367 to 0.07287, saving model to ita_eng_2\n",
      "Epoch 24/35\n",
      "632/632 [==============================] - 115s 182ms/step - loss: 0.0231 - val_loss: 0.0704\n",
      "\n",
      "Epoch 00024: val_loss improved from 0.07287 to 0.07036, saving model to ita_eng_2\n",
      "Epoch 25/35\n",
      "632/632 [==============================] - 115s 182ms/step - loss: 0.0209 - val_loss: 0.0701\n",
      "\n",
      "Epoch 00025: val_loss improved from 0.07036 to 0.07013, saving model to ita_eng_2\n",
      "Epoch 26/35\n",
      "632/632 [==============================] - 115s 182ms/step - loss: 0.0193 - val_loss: 0.0699\n",
      "\n",
      "Epoch 00026: val_loss improved from 0.07013 to 0.06993, saving model to ita_eng_2\n",
      "Epoch 27/35\n",
      "632/632 [==============================] - 115s 183ms/step - loss: 0.0177 - val_loss: 0.0688\n",
      "\n",
      "Epoch 00027: val_loss improved from 0.06993 to 0.06882, saving model to ita_eng_2\n",
      "Epoch 28/35\n",
      "632/632 [==============================] - 115s 182ms/step - loss: 0.0166 - val_loss: 0.0685\n",
      "\n",
      "Epoch 00028: val_loss improved from 0.06882 to 0.06851, saving model to ita_eng_2\n",
      "Epoch 29/35\n",
      "632/632 [==============================] - 115s 183ms/step - loss: 0.0153 - val_loss: 0.0681\n",
      "\n",
      "Epoch 00029: val_loss improved from 0.06851 to 0.06808, saving model to ita_eng_2\n",
      "Epoch 30/35\n",
      "632/632 [==============================] - 115s 181ms/step - loss: 0.0143 - val_loss: 0.0681\n",
      "\n",
      "Epoch 00030: val_loss did not improve from 0.06808\n",
      "Epoch 31/35\n",
      "632/632 [==============================] - 114s 181ms/step - loss: 0.0134 - val_loss: 0.0680\n",
      "\n",
      "Epoch 00031: val_loss improved from 0.06808 to 0.06798, saving model to ita_eng_2\n",
      "Epoch 32/35\n",
      "632/632 [==============================] - 114s 181ms/step - loss: 0.0124 - val_loss: 0.0673\n",
      "\n",
      "Epoch 00032: val_loss improved from 0.06798 to 0.06735, saving model to ita_eng_2\n",
      "Epoch 33/35\n",
      "632/632 [==============================] - 115s 181ms/step - loss: 0.0117 - val_loss: 0.0681\n",
      "\n",
      "Epoch 00033: val_loss did not improve from 0.06735\n",
      "Epoch 34/35\n",
      "632/632 [==============================] - 115s 181ms/step - loss: 0.0112 - val_loss: 0.0677\n",
      "\n",
      "Epoch 00034: val_loss did not improve from 0.06735\n",
      "Epoch 35/35\n",
      "632/632 [==============================] - 114s 180ms/step - loss: 0.0107 - val_loss: 0.0680\n",
      "\n",
      "Epoch 00035: val_loss did not improve from 0.06735\n",
      "\n",
      "Epoch 00035: ReduceLROnPlateau reducing learning rate to 0.00010000000474974513.\n"
     ]
    },
    {
     "data": {
      "text/plain": [
       "<tensorflow.python.keras.callbacks.History at 0x7fce499d1860>"
      ]
     },
     "execution_count": 42,
     "metadata": {
      "tags": []
     },
     "output_type": "execute_result"
    }
   ],
   "source": [
    "model.fit(x = train_dataloader, steps_per_epoch = train_dataloader.__len__(), validation_data = val_dataloader,\n",
    "          validation_steps = val_dataloader.__len__(), epochs = 35, verbose = 1, callbacks = call_back)"
   ]
  },
  {
   "cell_type": "code",
   "execution_count": 43,
   "metadata": {
    "id": "0wRz4MmHFvsp"
   },
   "outputs": [],
   "source": [
    "# Ref: https://vineethaswani2.medium.com/spelling-error-correction-7154f781354c\n",
    "class pred_Encoder_decoder(tf.keras.Model): \n",
    "    def __init__(self, inp_vocab_size, out_vocab_size, embedding_dim, enc_units, dec_units, max_len_ita, max_len_eng, score_fun, att_units):\n",
    "        super(pred_Encoder_decoder, self).__init__()\n",
    "        self.encoder = Encoder(inp_vocab_size, embedding_dim, enc_units, max_len_ita)\n",
    "        self.OneStepDecoder = OneStepDecoder(out_vocab_size, embedding_dim, max_len_eng, dec_units ,score_fun ,att_units)\n",
    "        self.batch_size = batch_size\n",
    "    def call(self, params):\n",
    "        enc_inp = params[0]\n",
    "        initial_state = self.encoder.initialize_states(1)\n",
    "        output_state, enc_h, enc_c = self.encoder(enc_inp, initial_state)\n",
    "        pred = tf.expand_dims([tokenizer_english.word_index['<sos>']], 0)\n",
    "        dec_h = enc_h\n",
    "        dec_c = enc_c\n",
    "        all_pred = []\n",
    "        all_attention = []\n",
    "        for t in range(50):  \n",
    "            pred, dec_h,dec_c, attention, _ = self.OneStepDecoder(pred, output_state, dec_h, dec_c)\n",
    "            pred = tf.argmax(pred, axis = -1)\n",
    "            all_pred.append(pred)\n",
    "            pred = tf.expand_dims(pred, 0)\n",
    "            all_attention.append(attention)\n",
    "        return all_pred, all_attention"
   ]
  },
  {
   "cell_type": "code",
   "execution_count": 44,
   "metadata": {
    "colab": {
     "base_uri": "https://localhost:8080/"
    },
    "id": "jgdtSOg_Fvsp",
    "outputId": "687ecabe-16bd-42a0-cace-0ad17d09787e"
   },
   "outputs": [
    {
     "data": {
      "text/plain": [
       "<tensorflow.python.training.tracking.util.CheckpointLoadStatus at 0x7fcdc3c59320>"
      ]
     },
     "execution_count": 44,
     "metadata": {
      "tags": []
     },
     "output_type": "execute_result"
    }
   ],
   "source": [
    "final_output = pred_Encoder_decoder(set_ita_size, set_eng_size, embedding_dim, lstm_size, lstm_size, ita_txt_len, max_len_eng, 'dot', att_units)\n",
    "final_output.compile(optimizer = 'Adam', loss = loss_function)\n",
    "final_output.load_weights('/content/ita_eng_2')"
   ]
  },
  {
   "cell_type": "markdown",
   "metadata": {
    "id": "aFWXBgO-Fvsp"
   },
   "source": [
    "## <font color='red'>**Inference**</font>\n",
    "\n",
    "<font color='red'>**Plot attention weights**</font>"
   ]
  },
  {
   "cell_type": "code",
   "execution_count": 45,
   "metadata": {
    "id": "2XSr-pDOFvsq"
   },
   "outputs": [],
   "source": [
    "# Ref: https://www.tensorflow.org/tutorials/text/nmt_with_attention\n",
    "%matplotlib inline  \n",
    "import matplotlib.pyplot as plt\n",
    "import matplotlib.ticker as ticker\n",
    "\n",
    "def plot_attention(attention, sentence, predicted_sentence):\n",
    "    fig = plt.figure(figsize=(12,12))\n",
    "    ax = fig.add_subplot(1, 1, 1)\n",
    "    ax.matshow(attention, cmap='YlOrRd')\n",
    "\n",
    "    fontdict = {'fontsize': 14}\n",
    "\n",
    "    ax.set_xticklabels([''] + sentence, fontdict=fontdict, rotation=90)\n",
    "    ax.set_yticklabels([''] + predicted_sentence, fontdict=fontdict)\n",
    "\n",
    "    ax.xaxis.set_major_locator(ticker.MultipleLocator(1))\n",
    "    ax.yaxis.set_major_locator(ticker.MultipleLocator(1))\n",
    "\n",
    "    plt.show()"
   ]
  },
  {
   "cell_type": "markdown",
   "metadata": {
    "id": "rbcw3tvdFvsq"
   },
   "source": [
    "<font color='red'>**Predict the sentence translation**</font>"
   ]
  },
  {
   "cell_type": "code",
   "execution_count": 46,
   "metadata": {
    "id": "mbjn_WMUFvsq"
   },
   "outputs": [],
   "source": [
    "def predict(input_sequence):\n",
    "    x = preprocess(input_sequence)\n",
    "    x = '<sos> '+x+' <eos>'\n",
    "    x = tokenizer_italian.texts_to_sequences([x])\n",
    "    x = pad_sequences(seq, maxlen=ita_txt_len, padding='post', dtype = np.int32)\n",
    "    y = final_output.predict(tf.expand_dims(seq, 0))\n",
    "    z = []\n",
    "    for i in y:\n",
    "        word = tokenizer_english.index_word[i[0][0]]\n",
    "        if word == '<eos>':\n",
    "            break\n",
    "        z.append(word)\n",
    "    return ' '.join(z) "
   ]
  },
  {
   "cell_type": "code",
   "execution_count": 47,
   "metadata": {
    "colab": {
     "base_uri": "https://localhost:8080/",
     "height": 810
    },
    "id": "qiraS_eaFvsq",
    "outputId": "4170e1fc-d306-4bb7-b0f9-9f09ebe2918c"
   },
   "outputs": [
    {
     "name": "stdout",
     "output_type": "stream",
     "text": [
      "input :  ha appena chiamato qualcuno\n"
     ]
    },
    {
     "data": {
      "image/png": "[encoded data removed]",
      "text/plain": [
       "<Figure size 864x864 with 1 Axes>"
      ]
     },
     "metadata": {
      "needs_background": "light",
      "tags": []
     },
     "output_type": "display_data"
    },
    {
     "name": "stdout",
     "output_type": "stream",
     "text": [
      "predicted output :  she just called me\n",
      "actual output : somebody just called\n"
     ]
    }
   ],
   "source": [
    "pr_final = train['italin'].values[0][6:-6]\n",
    "print('input : ', pr_final)\n",
    "result, attention_plot = predict(pr_final)\n",
    "attention_plot = attention_plot[:len(result.split(' ')), :len(pr_final.split(' '))]\n",
    "plot_attention(attention_plot, pr_final.split(' '), result.split(' '))\n",
    "print('predicted output : ',result)\n",
    "print('actual output :', train['english'].values[0])"
   ]
  },
  {
   "cell_type": "code",
   "execution_count": 48,
   "metadata": {
    "colab": {
     "base_uri": "https://localhost:8080/",
     "height": 791
    },
    "id": "Go_GDLlwFvsq",
    "outputId": "b18b5c22-45bb-4619-80b9-bfc3e700bae7"
   },
   "outputs": [
    {
     "name": "stdout",
     "output_type": "stream",
     "text": [
      "input :  io ero gelosa di voi\n"
     ]
    },
    {
     "data": {
      "image/png": "[encoded data removed]",
      "text/plain": [
       "<Figure size 864x864 with 1 Axes>"
      ]
     },
     "metadata": {
      "needs_background": "light",
      "tags": []
     },
     "output_type": "display_data"
    },
    {
     "name": "stdout",
     "output_type": "stream",
     "text": [
      "predicted output :  i was jealous of you\n",
      "actual output : i was jealous of you\n"
     ]
    }
   ],
   "source": [
    "pr_final = train['italin'].values[1000][6:-6]\n",
    "print('input : ', pr_final)\n",
    "result, attention_plot = predict(pr_final)\n",
    "attention_plot = attention_plot[:len(result.split(' ')), :len(pr_final.split(' '))]\n",
    "plot_attention(attention_plot, pr_final.split(' '), result.split(' '))\n",
    "print('predicted output : ',result)\n",
    "print('actual output :', train['english'].values[1000])"
   ]
  },
  {
   "cell_type": "markdown",
   "metadata": {
    "id": "QqN9mB57Fvsq"
   },
   "source": [
    "#### <font color='magenta'>**Calculate BLEU score**</font>"
   ]
  },
  {
   "cell_type": "code",
   "execution_count": 49,
   "metadata": {
    "colab": {
     "base_uri": "https://localhost:8080/"
    },
    "id": "q34EI-mzFvsq",
    "outputId": "89275938-4bbb-47bf-d9e0-0163ef91b034"
   },
   "outputs": [
    {
     "name": "stdout",
     "output_type": "stream",
     "text": [
      "Bleu Score : 0.8262435337297614\n"
     ]
    }
   ],
   "source": [
    "from nltk.translate.bleu_score import sentence_bleu\n",
    "initial =0\n",
    "for i in range(1000):\n",
    "    pr_final = test['italin'].values[i][6:-6]\n",
    "    con = test['english'].values[i]\n",
    "    pred = predict(pr_final)\n",
    "    initial+= sentence_bleu([con.split()], pred.split())\n",
    "print('Bleu Score : {}'.format(score/1000))"
   ]
  },
  {
   "cell_type": "markdown",
   "metadata": {
    "id": "biPWLA3pFvsq"
   },
   "source": [
    "<font color='red'>**Repeat the same steps for General scoring function**</font>"
   ]
  },
  {
   "cell_type": "code",
   "execution_count": 50,
   "metadata": {
    "id": "8LzmkGc2Fvsr"
   },
   "outputs": [],
   "source": [
    "from tensorflow.keras.callbacks import*\n",
    "import os\n",
    "import datetime\n",
    "\n",
    "batch_size=128\n",
    "lstm_size=256\n",
    "embedding_dim = 100\n",
    "\n",
    "tr_dat = Dataset(train, tokenizer_italian, tokenizer_english, ita_txt_len, max_len_eng)\n",
    "te_dat  = Dataset(test, tokenizer_italian, tokenizer_english, ita_txt_len, max_len_eng)\n",
    "val_dat  = Dataset(validation, tokenizer_italian, tokenizer_english, ita_txt_len, max_len_eng)\n",
    "\n",
    "train_dataloader = Dataloder(tr_dat, batch_size=batch_size)\n",
    "test_dataloader = Dataloder(te_dat, batch_size=batch_size)\n",
    "val_dataloader = Dataloder(val_dat, batch_size = batch_size)"
   ]
  },
  {
   "cell_type": "code",
   "execution_count": 51,
   "metadata": {
    "id": "TJL82VDlFvsr"
   },
   "outputs": [],
   "source": [
    "model = encoder_decoder(set_ita_size, set_eng_size, embedding_dim, lstm_size, \n",
    "                        lstm_size, ita_txt_len, max_len_eng, 'general', att_units, batch_size)\n",
    "model.compile(optimizer = 'Adam', loss = loss_function)\n",
    "log_dir=\"logs/seq2seq/\" + datetime.datetime.now().strftime(\"%Y%m%d-%H%M%S\") call_back = [ModelCheckpoint('ita_eng_3', save_best_only= True, verbose = 1),\n",
    "             TensorBoard(log_dir = log_dir, histogram_freq=1, write_graph=True), EarlyStopping(patience = 5, verbose = 1),\n",
    "             ReduceLROnPlateau(patience = 3, verbose = 1)]"
   ]
  },
  {
   "cell_type": "code",
   "execution_count": 52,
   "metadata": {
    "colab": {
     "base_uri": "https://localhost:8080/"
    },
    "id": "pDjJdErLFvsr",
    "outputId": "eac5c884-b0d4-42e7-87dd-6faa3d9a1578"
   },
   "outputs": [
    {
     "name": "stdout",
     "output_type": "stream",
     "text": [
      "Epoch 1/35\n",
      "632/632 [==============================] - 212s 262ms/step - loss: 0.5123 - val_loss: 0.3987\n",
      "\n",
      "Epoch 00001: val_loss improved from inf to 0.39868, saving model to ita_eng_3\n",
      "Epoch 2/35\n",
      "632/632 [==============================] - 148s 235ms/step - loss: 0.3832 - val_loss: 0.3175\n",
      "\n",
      "Epoch 00002: val_loss improved from 0.39868 to 0.31746, saving model to ita_eng_3\n",
      "Epoch 3/35\n",
      "632/632 [==============================] - 149s 236ms/step - loss: 0.3014 - val_loss: 0.2587\n",
      "\n",
      "Epoch 00003: val_loss improved from 0.31746 to 0.25873, saving model to ita_eng_3\n",
      "Epoch 4/35\n",
      "632/632 [==============================] - 148s 235ms/step - loss: 0.2429 - val_loss: 0.2157\n",
      "\n",
      "Epoch 00004: val_loss improved from 0.25873 to 0.21567, saving model to ita_eng_3\n",
      "Epoch 5/35\n",
      "632/632 [==============================] - 149s 235ms/step - loss: 0.1979 - val_loss: 0.1817\n",
      "\n",
      "Epoch 00005: val_loss improved from 0.21567 to 0.18166, saving model to ita_eng_3\n",
      "Epoch 6/35\n",
      "632/632 [==============================] - 148s 234ms/step - loss: 0.1597 - val_loss: 0.1512\n",
      "\n",
      "Epoch 00006: val_loss improved from 0.18166 to 0.15124, saving model to ita_eng_3\n",
      "Epoch 7/35\n",
      "632/632 [==============================] - 149s 236ms/step - loss: 0.1263 - val_loss: 0.1283\n",
      "\n",
      "Epoch 00007: val_loss improved from 0.15124 to 0.12835, saving model to ita_eng_3\n",
      "Epoch 8/35\n",
      "632/632 [==============================] - 149s 236ms/step - loss: 0.0979 - val_loss: 0.1076\n",
      "\n",
      "Epoch 00008: val_loss improved from 0.12835 to 0.10761, saving model to ita_eng_3\n",
      "Epoch 9/35\n",
      "632/632 [==============================] - 151s 238ms/step - loss: 0.0748 - val_loss: 0.0937\n",
      "\n",
      "Epoch 00009: val_loss improved from 0.10761 to 0.09371, saving model to ita_eng_3\n",
      "Epoch 10/35\n",
      "632/632 [==============================] - 150s 238ms/step - loss: 0.0581 - val_loss: 0.0831\n",
      "\n",
      "Epoch 00010: val_loss improved from 0.09371 to 0.08306, saving model to ita_eng_3\n",
      "Epoch 11/35\n",
      "632/632 [==============================] - 150s 238ms/step - loss: 0.0454 - val_loss: 0.0758\n",
      "\n",
      "Epoch 00011: val_loss improved from 0.08306 to 0.07577, saving model to ita_eng_3\n",
      "Epoch 12/35\n",
      "632/632 [==============================] - 150s 237ms/step - loss: 0.0358 - val_loss: 0.0706\n",
      "\n",
      "Epoch 00012: val_loss improved from 0.07577 to 0.07058, saving model to ita_eng_3\n",
      "Epoch 13/35\n",
      "632/632 [==============================] - 151s 239ms/step - loss: 0.0293 - val_loss: 0.0669\n",
      "\n",
      "Epoch 00013: val_loss improved from 0.07058 to 0.06689, saving model to ita_eng_3\n",
      "Epoch 14/35\n",
      "632/632 [==============================] - 151s 238ms/step - loss: 0.0245 - val_loss: 0.0643\n",
      "\n",
      "Epoch 00014: val_loss improved from 0.06689 to 0.06434, saving model to ita_eng_3\n",
      "Epoch 15/35\n",
      "632/632 [==============================] - 151s 238ms/step - loss: 0.0205 - val_loss: 0.0633\n",
      "\n",
      "Epoch 00015: val_loss improved from 0.06434 to 0.06329, saving model to ita_eng_3\n",
      "Epoch 16/35\n",
      "632/632 [==============================] - 151s 238ms/step - loss: 0.0175 - val_loss: 0.0617\n",
      "\n",
      "Epoch 00016: val_loss improved from 0.06329 to 0.06170, saving model to ita_eng_3\n",
      "Epoch 17/35\n",
      "632/632 [==============================] - 151s 239ms/step - loss: 0.0156 - val_loss: 0.0611\n",
      "\n",
      "Epoch 00017: val_loss improved from 0.06170 to 0.06109, saving model to ita_eng_3\n",
      "Epoch 18/35\n",
      "632/632 [==============================] - 151s 239ms/step - loss: 0.0139 - val_loss: 0.0617\n",
      "\n",
      "Epoch 00018: val_loss did not improve from 0.06109\n",
      "Epoch 19/35\n",
      "632/632 [==============================] - 151s 239ms/step - loss: 0.0126 - val_loss: 0.0605\n",
      "\n",
      "Epoch 00019: val_loss improved from 0.06109 to 0.06052, saving model to ita_eng_3\n",
      "Epoch 20/35\n",
      "632/632 [==============================] - 151s 238ms/step - loss: 0.0114 - val_loss: 0.0602\n",
      "\n",
      "Epoch 00020: val_loss improved from 0.06052 to 0.06024, saving model to ita_eng_3\n",
      "Epoch 21/35\n",
      "632/632 [==============================] - 151s 239ms/step - loss: 0.0104 - val_loss: 0.0608\n",
      "\n",
      "Epoch 00021: val_loss did not improve from 0.06024\n",
      "Epoch 22/35\n",
      "632/632 [==============================] - 151s 239ms/step - loss: 0.0101 - val_loss: 0.0600\n",
      "\n",
      "Epoch 00022: val_loss improved from 0.06024 to 0.06004, saving model to ita_eng_3\n",
      "Epoch 23/35\n",
      "632/632 [==============================] - 151s 239ms/step - loss: 0.0092 - val_loss: 0.0608\n",
      "\n",
      "Epoch 00023: val_loss did not improve from 0.06004\n",
      "Epoch 24/35\n",
      "632/632 [==============================] - 151s 238ms/step - loss: 0.0088 - val_loss: 0.0619\n",
      "\n",
      "Epoch 00024: val_loss did not improve from 0.06004\n",
      "Epoch 25/35\n",
      "632/632 [==============================] - 151s 239ms/step - loss: 0.0085 - val_loss: 0.0613\n",
      "\n",
      "Epoch 00025: val_loss did not improve from 0.06004\n",
      "\n",
      "Epoch 00025: ReduceLROnPlateau reducing learning rate to 0.00010000000474974513.\n",
      "Epoch 26/35\n",
      "632/632 [==============================] - 151s 239ms/step - loss: 0.0066 - val_loss: 0.0589\n",
      "\n",
      "Epoch 00026: val_loss improved from 0.06004 to 0.05885, saving model to ita_eng_3\n",
      "Epoch 27/35\n",
      "632/632 [==============================] - 151s 239ms/step - loss: 0.0053 - val_loss: 0.0589\n",
      "\n",
      "Epoch 00027: val_loss did not improve from 0.05885\n",
      "Epoch 28/35\n",
      "632/632 [==============================] - 151s 238ms/step - loss: 0.0050 - val_loss: 0.0590\n",
      "\n",
      "Epoch 00028: val_loss did not improve from 0.05885\n",
      "Epoch 29/35\n",
      "632/632 [==============================] - 151s 238ms/step - loss: 0.0048 - val_loss: 0.0592\n",
      "\n",
      "Epoch 00029: val_loss did not improve from 0.05885\n",
      "\n",
      "Epoch 00029: ReduceLROnPlateau reducing learning rate to 1.0000000474974514e-05.\n",
      "Epoch 30/35\n",
      "632/632 [==============================] - 151s 239ms/step - loss: 0.0046 - val_loss: 0.0592\n",
      "\n",
      "Epoch 00030: val_loss did not improve from 0.05885\n",
      "Epoch 31/35\n",
      "632/632 [==============================] - 151s 239ms/step - loss: 0.0045 - val_loss: 0.0592\n",
      "\n",
      "Epoch 00031: val_loss did not improve from 0.05885\n",
      "Epoch 00031: early stopping\n"
     ]
    },
    {
     "data": {
      "text/plain": [
       "<tensorflow.python.keras.callbacks.History at 0x7fcdb75fbd68>"
      ]
     },
     "execution_count": 52,
     "metadata": {
      "tags": []
     },
     "output_type": "execute_result"
    }
   ],
   "source": [
    "model.fit(x = train_dataloader, steps_per_epoch = train_dataloader.__len__(), validation_data = val_dataloader,\n",
    "          validation_steps = val_dataloader.__len__(), epochs = 35, verbose = 1, callbacks = call_back)"
   ]
  },
  {
   "cell_type": "code",
   "execution_count": 53,
   "metadata": {
    "colab": {
     "base_uri": "https://localhost:8080/"
    },
    "id": "Nv_3yN0wFvsr",
    "outputId": "510d139f-122a-4feb-8284-1c3b876cc5c8"
   },
   "outputs": [
    {
     "data": {
      "text/plain": [
       "<tensorflow.python.training.tracking.util.CheckpointLoadStatus at 0x7fcdb761c198>"
      ]
     },
     "execution_count": 53,
     "metadata": {
      "tags": []
     },
     "output_type": "execute_result"
    }
   ],
   "source": [
    "final_output = pred_Encoder_decoder(set_ita_size, set_eng_size, embedding_dim, lstm_size, lstm_size, ita_txt_len, max_len_eng, 'general', att_units)\n",
    "final_output.compile(optimizer = 'Adam', loss = loss_function)\n",
    "final_output.load_weights('/content/ita_eng_3')"
   ]
  },
  {
   "cell_type": "code",
   "execution_count": 54,
   "metadata": {
    "colab": {
     "base_uri": "https://localhost:8080/",
     "height": 643
    },
    "id": "UoSULVdCFvsr",
    "outputId": "a3c955f8-9e84-4420-c64d-1e1d791c766f"
   },
   "outputs": [
    {
     "name": "stdout",
     "output_type": "stream",
     "text": [
      "input :  ha appena chiamato qualcuno\n"
     ]
    },
    {
     "data": {
      "image/png": "[encoded data removed]",
      "text/plain": [
       "<Figure size 864x864 with 1 Axes>"
      ]
     },
     "metadata": {
      "needs_background": "light",
      "tags": []
     },
     "output_type": "display_data"
    },
    {
     "name": "stdout",
     "output_type": "stream",
     "text": [
      "output :  somebody just called\n"
     ]
    }
   ],
   "source": [
    "pr_final = train['italin'].values[0][6:-6]\n",
    "print('input : ', pr_final)\n",
    "result = predict(pr_final)\n",
    "print('predicted output : ',result)\n",
    "print('actual output :', train['english'].values[0])"
   ]
  },
  {
   "cell_type": "code",
   "execution_count": 55,
   "metadata": {
    "colab": {
     "base_uri": "https://localhost:8080/",
     "height": 774
    },
    "id": "PnaILl4IFvsr",
    "outputId": "1f3caaa8-47b6-47dc-e0b7-67853a148305"
   },
   "outputs": [
    {
     "name": "stdout",
     "output_type": "stream",
     "text": [
      "input :  io ero gelosa di voi\n"
     ]
    },
    {
     "data": {
      "image/png": "[encoded data removed]",
      "text/plain": [
       "<Figure size 864x864 with 1 Axes>"
      ]
     },
     "metadata": {
      "needs_background": "light",
      "tags": []
     },
     "output_type": "display_data"
    },
    {
     "name": "stdout",
     "output_type": "stream",
     "text": [
      "output :  i was jealous of you\n"
     ]
    }
   ],
   "source": [
    "pr_final = train['italin'].values[1000][6:-6]\n",
    "print('input : ', pr_final)\n",
    "result = predict(pr_final)\n",
    "print('predicted output : ',result)\n",
    "print('actual output :', train['english'].values[1000])"
   ]
  },
  {
   "cell_type": "code",
   "execution_count": 56,
   "metadata": {
    "colab": {
     "base_uri": "https://localhost:8080/"
    },
    "id": "p3V_bN7OFvsr",
    "outputId": "83f00d0d-2d1f-42b4-ef02-a56201d43419"
   },
   "outputs": [
    {
     "name": "stdout",
     "output_type": "stream",
     "text": [
      "Bleu Score : 0.8442320971046736\n"
     ]
    }
   ],
   "source": [
    "from nltk.translate.bleu_score import sentence_bleu\n",
    "initial =0\n",
    "for i in range(1000):\n",
    "    pr_final = test['italin'].values[i][6:-6]\n",
    "    con = test['english'].values[i]\n",
    "    pred = predict(pr_final)\n",
    "    initial+= sentence_bleu([con.split()], pred.split())\n",
    "print('Bleu Score : {}'.format(score/1000))"
   ]
  },
  {
   "cell_type": "markdown",
   "metadata": {
    "id": "FlSkE0skFvss"
   },
   "source": [
    "<font color='red'>**Repeat the same steps for Concat scoring function**</font>"
   ]
  },
  {
   "cell_type": "code",
   "execution_count": 57,
   "metadata": {
    "id": "NQJlHFO8Fvss"
   },
   "outputs": [],
   "source": [
    "from tensorflow.keras.callbacks import*\n",
    "import os\n",
    "batch_size=64\n",
    "lstm_size=128\n",
    "embedding_dim = 100\n",
    "\n",
    "tr_dat = Dataset(train, tokenizer_italian, tokenizer_english, ita_txt_len, max_len_eng)\n",
    "te_dat  = Dataset(test, tokenizer_italian, tokenizer_english, ita_txt_len, max_len_eng)\n",
    "val_dat  = Dataset(validation, tokenizer_italian, tokenizer_english, ita_txt_len, max_len_eng)\n",
    "\n",
    "train_dataloader = Dataloder(tr_dat, batch_size=batch_size)\n",
    "test_dataloader = Dataloder(te_dat, batch_size=batch_size)\n",
    "val_dataloader = Dataloder(val_dat, batch_size = batch_size)"
   ]
  },
  {
   "cell_type": "code",
   "execution_count": 58,
   "metadata": {
    "id": "_Tovrfs3Fvss"
   },
   "outputs": [],
   "source": [
    "model = encoder_decoder(set_ita_size, set_eng_size, embedding_dim, lstm_size, lstm_size, ita_txt_len, max_len_eng, 'concat', att_units, batch_size)\n",
    "model.compile(optimizer = 'Adam', loss = loss_function)\n",
    "log_dir=\"logs/seq2seq/\" + datetime.datetime.now().strftime(\"%Y%m%d-%H%M%S\") call_back = [ModelCheckpoint('ita_eng_4', save_best_only= True),\n",
    "             TensorBoard(log_dir = log_dir, histogram_freq=1, write_graph=True), EarlyStopping(patience = 5, verbose = 1),\n",
    "             ReduceLROnPlateau(patience = 3, verbose = 1)]"
   ]
  },
  {
   "cell_type": "code",
   "execution_count": 59,
   "metadata": {
    "colab": {
     "base_uri": "https://localhost:8080/"
    },
    "id": "NQEQFexaFvss",
    "outputId": "4612e3ea-8dc4-4046-a54a-f59f8ff50b4f"
   },
   "outputs": [
    {
     "name": "stdout",
     "output_type": "stream",
     "text": [
      "Epoch 1/35\n",
      "1265/1265 [==============================] - 319s 212ms/step - loss: 0.4966 - val_loss: 0.3452\n",
      "Epoch 2/35\n",
      "1265/1265 [==============================] - 248s 196ms/step - loss: 0.3225 - val_loss: 0.2693\n",
      "Epoch 3/35\n",
      "1265/1265 [==============================] - 247s 195ms/step - loss: 0.2524 - val_loss: 0.2244\n",
      "Epoch 4/35\n",
      "1265/1265 [==============================] - 243s 192ms/step - loss: 0.2067 - val_loss: 0.1907\n",
      "Epoch 5/35\n",
      "1265/1265 [==============================] - 243s 192ms/step - loss: 0.1704 - val_loss: 0.1637\n",
      "Epoch 6/35\n",
      "1265/1265 [==============================] - 240s 190ms/step - loss: 0.1383 - val_loss: 0.1394\n",
      "Epoch 7/35\n",
      "1265/1265 [==============================] - 238s 188ms/step - loss: 0.1107 - val_loss: 0.1197\n",
      "Epoch 8/35\n",
      "1265/1265 [==============================] - 239s 189ms/step - loss: 0.0873 - val_loss: 0.1049\n",
      "Epoch 9/35\n",
      "1265/1265 [==============================] - 242s 192ms/step - loss: 0.0689 - val_loss: 0.0935\n",
      "Epoch 10/35\n",
      "1265/1265 [==============================] - 247s 195ms/step - loss: 0.0550 - val_loss: 0.0849\n",
      "Epoch 11/35\n",
      "1265/1265 [==============================] - 244s 193ms/step - loss: 0.0446 - val_loss: 0.0794\n",
      "Epoch 12/35\n",
      "1265/1265 [==============================] - 247s 195ms/step - loss: 0.0368 - val_loss: 0.0747\n",
      "Epoch 13/35\n",
      "1265/1265 [==============================] - 248s 196ms/step - loss: 0.0308 - val_loss: 0.0713\n",
      "Epoch 14/35\n",
      "1265/1265 [==============================] - 246s 195ms/step - loss: 0.0260 - val_loss: 0.0692\n",
      "Epoch 15/35\n",
      "1265/1265 [==============================] - 245s 193ms/step - loss: 0.0225 - val_loss: 0.0685\n",
      "Epoch 16/35\n",
      "1265/1265 [==============================] - 247s 195ms/step - loss: 0.0200 - val_loss: 0.0666\n",
      "Epoch 17/35\n",
      "1265/1265 [==============================] - 247s 195ms/step - loss: 0.0174 - val_loss: 0.0656\n",
      "Epoch 18/35\n",
      "1265/1265 [==============================] - 246s 194ms/step - loss: 0.0156 - val_loss: 0.0645\n",
      "Epoch 19/35\n",
      "1265/1265 [==============================] - 247s 195ms/step - loss: 0.0141 - val_loss: 0.0652\n",
      "Epoch 20/35\n",
      "1265/1265 [==============================] - 246s 194ms/step - loss: 0.0131 - val_loss: 0.0638\n",
      "Epoch 21/35\n",
      "1265/1265 [==============================] - 246s 195ms/step - loss: 0.0121 - val_loss: 0.0649\n",
      "Epoch 22/35\n",
      "1265/1265 [==============================] - 248s 196ms/step - loss: 0.0110 - val_loss: 0.0648\n",
      "Epoch 23/35\n",
      "1265/1265 [==============================] - 246s 195ms/step - loss: 0.0104 - val_loss: 0.0641\n",
      "\n",
      "Epoch 00023: ReduceLROnPlateau reducing learning rate to 0.00010000000474974513.\n",
      "Epoch 24/35\n",
      "1265/1265 [==============================] - 245s 194ms/step - loss: 0.0083 - val_loss: 0.0622\n",
      "Epoch 25/35\n",
      "1265/1265 [==============================] - 248s 196ms/step - loss: 0.0069 - val_loss: 0.0620\n",
      "Epoch 26/35\n",
      "1265/1265 [==============================] - 247s 195ms/step - loss: 0.0064 - val_loss: 0.0623\n",
      "Epoch 27/35\n",
      "1265/1265 [==============================] - 248s 196ms/step - loss: 0.0062 - val_loss: 0.0622\n",
      "Epoch 28/35\n",
      "1265/1265 [==============================] - 247s 195ms/step - loss: 0.0060 - val_loss: 0.0627\n",
      "\n",
      "Epoch 00028: ReduceLROnPlateau reducing learning rate to 1.0000000474974514e-05.\n",
      "Epoch 29/35\n",
      "1265/1265 [==============================] - 247s 195ms/step - loss: 0.0057 - val_loss: 0.0626\n",
      "Epoch 30/35\n",
      "1265/1265 [==============================] - 247s 195ms/step - loss: 0.0057 - val_loss: 0.0626\n",
      "Epoch 00030: early stopping\n"
     ]
    },
    {
     "data": {
      "text/plain": [
       "<tensorflow.python.keras.callbacks.History at 0x7fcda3e93438>"
      ]
     },
     "execution_count": 59,
     "metadata": {
      "tags": []
     },
     "output_type": "execute_result"
    }
   ],
   "source": [
    "model.fit(x = train_dataloader, steps_per_epoch = train_dataloader.__len__(), validation_data = val_dataloader,\n",
    "          validation_steps = val_dataloader.__len__(), epochs = 35, verbose = 1, callbacks = call_back)"
   ]
  },
  {
   "cell_type": "code",
   "execution_count": 60,
   "metadata": {
    "colab": {
     "base_uri": "https://localhost:8080/"
    },
    "id": "PXbG13IqFvss",
    "outputId": "871925d0-cc7c-48a5-a0c1-a782ee9a7f58"
   },
   "outputs": [
    {
     "data": {
      "text/plain": [
       "<tensorflow.python.training.tracking.util.CheckpointLoadStatus at 0x7fcd49ac8c18>"
      ]
     },
     "execution_count": 60,
     "metadata": {
      "tags": []
     },
     "output_type": "execute_result"
    }
   ],
   "source": [
    "final_output = pred_Encoder_decoder(set_ita_size, set_eng_size, embedding_dim, lstm_size, lstm_size, ita_txt_len, max_len_eng, 'concat', att_units)\n",
    "final_output.compile(optimizer = 'Adam', loss = loss_function)\n",
    "final_output.load_weights('/content/ita_eng_4')"
   ]
  },
  {
   "cell_type": "code",
   "execution_count": 61,
   "metadata": {
    "colab": {
     "base_uri": "https://localhost:8080/",
     "height": 643
    },
    "id": "5d6VzvOaFvss",
    "outputId": "ce6def87-c8ce-49ca-8606-ee61af5abdc0"
   },
   "outputs": [
    {
     "name": "stdout",
     "output_type": "stream",
     "text": [
      "input :  ha appena chiamato qualcuno\n"
     ]
    },
    {
     "data": {
      "image/png": "[encoded data removed]",
      "text/plain": [
       "<Figure size 864x864 with 1 Axes>"
      ]
     },
     "metadata": {
      "needs_background": "light",
      "tags": []
     },
     "output_type": "display_data"
    },
    {
     "name": "stdout",
     "output_type": "stream",
     "text": [
      "output :  somebody just called\n"
     ]
    }
   ],
   "source": [
    "pr_final = train['italin'].values[0][6:-6]\n",
    "print('input : ', pr_final)\n",
    "result = predict(pr_final)\n",
    "print('predicted output : ',result)\n",
    "print('actual output :', train['english'].values[0])"
   ]
  },
  {
   "cell_type": "code",
   "execution_count": 62,
   "metadata": {
    "colab": {
     "base_uri": "https://localhost:8080/",
     "height": 774
    },
    "id": "erPMz10FFvss",
    "outputId": "fa2c2bac-a8ab-40e8-e3aa-1616b0f5be79"
   },
   "outputs": [
    {
     "name": "stdout",
     "output_type": "stream",
     "text": [
      "input :  io ero gelosa di voi\n"
     ]
    },
    {
     "data": {
      "image/png": "[encoded data removed]",
      "text/plain": [
       "<Figure size 864x864 with 1 Axes>"
      ]
     },
     "metadata": {
      "needs_background": "light",
      "tags": []
     },
     "output_type": "display_data"
    },
    {
     "name": "stdout",
     "output_type": "stream",
     "text": [
      "output :  i was jealous of you\n"
     ]
    }
   ],
   "source": [
    "pr_final = train['italin'].values[1000][6:-6]\n",
    "print('input : ', pr_final)\n",
    "result = predict(pr_final)\n",
    "print('predicted output : ',result)\n",
    "print('actual output :', train['english'].values[1000])"
   ]
  },
  {
   "cell_type": "code",
   "execution_count": 63,
   "metadata": {
    "colab": {
     "base_uri": "https://localhost:8080/"
    },
    "id": "2ZlvgxKYFvst",
    "outputId": "141a34ca-76d2-4cb4-990a-9a03d9b93549"
   },
   "outputs": [
    {
     "name": "stdout",
     "output_type": "stream",
     "text": [
      "Bleu Score : 0.8438060676707472\n"
     ]
    }
   ],
   "source": [
    "from nltk.translate.bleu_score import sentence_bleu\n",
    "initial =0\n",
    "for i in range(1000):\n",
    "    pr_final = test['italin'].values[i][6:-6]\n",
    "    con = test['english'].values[i]\n",
    "    pred = predict(pr_final)\n",
    "    initial+= sentence_bleu([con.split()], pred.split())\n",
    "print('Bleu Score : {}'.format(score/1000))"
   ]
  },
  {
   "cell_type": "markdown",
   "metadata": {
    "id": "CVPZt7KpFvst"
   },
   "source": [
    "# Conclusion"
   ]
  },
  {
   "cell_type": "markdown",
   "metadata": {
    "id": "hleIm2otFvst"
   },
   "source": [
    "* Bleu Score for model-1 is 0.8391122289889017\n",
    "* Bleu Score for model-2 is 0.8262435337297614 (Attention mechanisum)\n",
    "* Bleu Score for model-3 is 0.8442320971046736 (General scoring function)\n",
    "* Bleu Score for model-4 is 0.8438060676707472 (Concat scoring function)"
   ]
  },
  {
   "cell_type": "code",
   "execution_count": null,
   "metadata": {},
   "outputs": [],
   "source": []
  }
 ],
 "metadata": {
  "accelerator": "GPU",
  "colab": {
   "collapsed_sections": [],
   "machine_shape": "hm",
   "name": "Sequence to sequence implementation.ipynb",
   "provenance": [],
   "toc_visible": true
  },
  "kernelspec": {
   "display_name": "Python 3",
   "language": "python",
   "name": "python3"
  },
  "language_info": {
   "codemirror_mode": {
    "name": "ipython",
    "version": 3
   },
   "file_extension": ".py",
   "mimetype": "text/x-python",
   "name": "python",
   "nbconvert_exporter": "python",
   "pygments_lexer": "ipython3",
   "version": "3.6.5"
  }
 },
 "nbformat": 4,
 "nbformat_minor": 1
}
